{
 "cells": [
  {
   "cell_type": "markdown",
   "metadata": {},
   "source": [
    "# Mesh1d basics\n",
    "\n",
    "\n",
    "This tutorial will show how to deal with 1d meshes and how they can interact with 2d meshes."
   ]
  },
  {
   "cell_type": "markdown",
   "metadata": {},
   "source": [
    "At the very beginning, the necessary libraries have to be imported."
   ]
  },
  {
   "cell_type": "code",
   "execution_count": 1,
   "metadata": {},
   "outputs": [],
   "source": [
    "import matplotlib.pyplot as plt\n",
    "import numpy as np\n",
    "\n",
    "from meshkernel import Mesh1d, GeometryList, MakeGridParameters, MeshKernel"
   ]
  },
  {
   "cell_type": "markdown",
   "metadata": {},
   "source": [
    "First, let us describe our 1d mesh with six points of a sinusoidal function."
   ]
  },
  {
   "cell_type": "code",
   "execution_count": 2,
   "metadata": {},
   "outputs": [],
   "source": [
    "node_x = np.linspace(0, 2 * np.pi, 8)\n",
    "node_y = np.sin(node_x)"
   ]
  },
  {
   "cell_type": "markdown",
   "metadata": {},
   "source": [
    "We want a continuous line, which is why we just connect each point with the following one."
   ]
  },
  {
   "cell_type": "code",
   "execution_count": 3,
   "metadata": {},
   "outputs": [],
   "source": [
    "edge_nodes = np.zeros(node_x.size * 2, np.int32)\n",
    "edge_index = 0\n",
    "for node_index in range(node_x.size - 1):\n",
    "    edge_nodes[edge_index] = node_index\n",
    "    edge_index += 1\n",
    "    edge_nodes[edge_index] = node_index + 1\n",
    "    edge_index += 1"
   ]
  },
  {
   "cell_type": "markdown",
   "metadata": {},
   "source": [
    "Then, we can create our `Mesh1d` instance."
   ]
  },
  {
   "cell_type": "code",
   "execution_count": 4,
   "metadata": {},
   "outputs": [],
   "source": [
    "mesh1d_input = Mesh1d(node_x, node_y, edge_nodes)"
   ]
  },
  {
   "cell_type": "markdown",
   "metadata": {},
   "source": [
    "We create a meshkernel instance"
   ]
  },
  {
   "cell_type": "code",
   "execution_count": 5,
   "metadata": {},
   "outputs": [],
   "source": [
    "mk = MeshKernel()"
   ]
  },
  {
   "cell_type": "markdown",
   "metadata": {},
   "source": [
    "We use the curvilinear_make_uniform method to create a simple curvilinear grid. You can look at the documentation in order to find all its parameters."
   ]
  },
  {
   "cell_type": "code",
   "execution_count": 6,
   "metadata": {},
   "outputs": [],
   "source": [
    "make_grid_parameters = MakeGridParameters()\n",
    "make_grid_parameters.num_columns = 7\n",
    "make_grid_parameters.num_rows = 3\n",
    "make_grid_parameters.angle = 0.0\n",
    "make_grid_parameters.block_size = 1.0\n",
    "make_grid_parameters.origin_x = -0.1\n",
    "make_grid_parameters.origin_y = -1.5\n",
    "make_grid_parameters.block_size_x = 1.0\n",
    "make_grid_parameters.block_size_y = 1.0\n",
    "\n",
    "node_x = np.empty(0, dtype=np.double)\n",
    "node_y = np.empty(0, dtype=np.double)\n",
    "geometry_list = GeometryList(node_x, node_y)\n",
    "    \n",
    "mk.curvilinear_make_uniform(make_grid_parameters, geometry_list)"
   ]
  },
  {
   "cell_type": "markdown",
   "metadata": {},
   "source": [
    "We convert the curvilinear grid to an unstructured `mesh2d` and get it from MeshKernel"
   ]
  },
  {
   "cell_type": "code",
   "execution_count": 7,
   "metadata": {},
   "outputs": [],
   "source": [
    "mk.curvilinear_convert_to_mesh2d()\n",
    "mesh2d_input = mk.mesh2d_get()"
   ]
  },
  {
   "cell_type": "markdown",
   "metadata": {},
   "source": [
    "This is how our meshes currently look like:"
   ]
  },
  {
   "cell_type": "code",
   "execution_count": 8,
   "metadata": {},
   "outputs": [
    {
     "data": {
      "image/png": "[encoded data removed]",
      "text/plain": [
       "<Figure size 432x288 with 1 Axes>"
      ]
     },
     "metadata": {
      "needs_background": "light"
     },
     "output_type": "display_data"
    }
   ],
   "source": [
    "fig, ax = plt.subplots()\n",
    "\n",
    "mesh1d_input.plot_edges(ax, color=\"blue\")\n",
    "mesh2d_input.plot_edges(ax, color=\"black\")\n"
   ]
  },
  {
   "cell_type": "markdown",
   "metadata": {},
   "source": [
    "Typically if we have 1d and 2d meshes we want to create contacts between them.\n",
    "All contacts methods expect a node mask, which determines which 1d nodes should be connected.\n",
    "In our case we want to consider all nodes."
   ]
  },
  {
   "cell_type": "code",
   "execution_count": 9,
   "metadata": {},
   "outputs": [],
   "source": [
    "node_mask = np.full(mesh1d_input.node_x.size, True)"
   ]
  },
  {
   "cell_type": "markdown",
   "metadata": {},
   "source": [
    "We call the `contacts_compute_multiple` method in order to create the contacts."
   ]
  },
  {
   "cell_type": "code",
   "execution_count": 10,
   "metadata": {},
   "outputs": [],
   "source": [
    "mk.contacts_compute_multiple(node_mask)"
   ]
  },
  {
   "cell_type": "markdown",
   "metadata": {},
   "source": [
    "Then, we retrieve the state from the `MeshKernel` instance."
   ]
  },
  {
   "cell_type": "code",
   "execution_count": 11,
   "metadata": {},
   "outputs": [],
   "source": [
    "mesh1d_output_0 = mk.mesh1d_get()\n",
    "mesh2d_output_0 = mk.mesh2d_get()\n",
    "contacts_output_0 = mk.contacts_get()"
   ]
  },
  {
   "cell_type": "markdown",
   "metadata": {},
   "source": [
    "We see that there are now contacts between the 1d nodes and the 2d faces."
   ]
  },
  {
   "cell_type": "code",
   "execution_count": 13,
   "metadata": {},
   "outputs": [
    {
     "data": {
      "image/png": "[encoded data removed]",
      "text/plain": [
       "<Figure size 432x288 with 1 Axes>"
      ]
     },
     "metadata": {
      "needs_background": "light"
     },
     "output_type": "display_data"
    }
   ],
   "source": [
    "fig, ax = plt.subplots()\n",
    "mesh1d_output_0.plot_edges(ax, color=\"blue\")\n",
    "mesh2d_output_0.plot_edges(ax, color=\"black\")\n",
    "contacts_output_0.plot_edges(ax, mesh1d_output_0, mesh2d_output_0, color=\"red\")"
   ]
  },
  {
   "cell_type": "code",
   "execution_count": null,
   "metadata": {},
   "outputs": [],
   "source": []
  }
 ],
 "metadata": {
  "kernelspec": {
   "display_name": "Python 3",
   "language": "python",
   "name": "python3"
  },
  "language_info": {
   "codemirror_mode": {
    "name": "ipython",
    "version": 3
   },
   "file_extension": ".py",
   "mimetype": "text/x-python",
   "name": "python",
   "nbconvert_exporter": "python",
   "pygments_lexer": "ipython3",
   "version": "3.8.6"
  }
 },
 "nbformat": 4,
 "nbformat_minor": 5
}
