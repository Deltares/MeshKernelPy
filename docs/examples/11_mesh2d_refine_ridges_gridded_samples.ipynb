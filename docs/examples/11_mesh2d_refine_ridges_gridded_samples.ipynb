{
 "cells": [
  {
   "cell_type": "markdown",
   "metadata": {},
   "source": [
    "# Mesh2d refine ridges based on gridded samples"
   ]
  },
  {
   "cell_type": "markdown",
   "metadata": {},
   "source": [
    "At the very beginning, the necessary libraries have to be imported."
   ]
  },
  {
   "cell_type": "code",
   "execution_count": 1,
   "metadata": {},
   "outputs": [],
   "source": [
    "import matplotlib.pyplot as plt\n",
    "import numpy as np\n",
    "from meshkernel import (\n",
    "    GeometryList,\n",
    "    GriddedSamples,\n",
    "    MakeGridParameters,\n",
    "    MeshKernel,\n",
    "    MeshRefinementParameters,\n",
    "    RefinementType,\n",
    "    GriddedSamples,\n",
    ")"
   ]
  },
  {
   "cell_type": "markdown",
   "metadata": {},
   "source": [
    "`meshkernel` provides a set of convenience methods for creating common meshes.\n",
    "\n",
    "We use the `curvilinear_compute_rectangular_grid` method to create a simple curvilinear grid.\n",
    "You can look at the documentation in order to find all its parameters."
   ]
  },
  {
   "cell_type": "code",
   "execution_count": 2,
   "metadata": {},
   "outputs": [],
   "source": [
    "mk = MeshKernel()\n",
    "\n",
    "num_rows = 21\n",
    "num_columns = 41\n",
    "\n",
    "make_grid_parameters = MakeGridParameters()\n",
    "make_grid_parameters.num_columns = num_columns\n",
    "make_grid_parameters.num_rows = num_rows\n",
    "make_grid_parameters.angle = 0.0\n",
    "make_grid_parameters.origin_x = 0.0\n",
    "make_grid_parameters.origin_y = 0.0\n",
    "make_grid_parameters.block_size_x = 10.0\n",
    "make_grid_parameters.block_size_y = 10.0\n",
    "\n",
    "mk.curvilinear_compute_rectangular_grid(make_grid_parameters)"
   ]
  },
  {
   "cell_type": "markdown",
   "metadata": {},
   "source": [
    "We convert the curvilinear grid to an unstructured mesh and get the resulting mesh2d"
   ]
  },
  {
   "cell_type": "code",
   "execution_count": 3,
   "metadata": {},
   "outputs": [],
   "source": [
    "mk.curvilinear_convert_to_mesh2d()\n",
    "mesh2d_input = mk.mesh2d_get()"
   ]
  },
  {
   "cell_type": "markdown",
   "metadata": {},
   "source": [
    "The generated mesh can be visualized as follow"
   ]
  },
  {
   "cell_type": "code",
   "execution_count": 4,
   "metadata": {},
   "outputs": [
    {
     "data": {
      "image/png": "[encoded data removed]",
      "text/plain": [
       "<Figure size 432x288 with 1 Axes>"
      ]
     },
     "metadata": {
      "needs_background": "light"
     },
     "output_type": "display_data"
    }
   ],
   "source": [
    "fig, ax = plt.subplots()\n",
    "mesh2d_input.plot_edges(ax, color=\"black\")"
   ]
  },
  {
   "cell_type": "markdown",
   "metadata": {},
   "source": [
    "Now we define the gridded samples with uniform spacing"
   ]
  },
  {
   "cell_type": "code",
   "execution_count": 5,
   "metadata": {},
   "outputs": [],
   "source": [
    "def read_asc_file(file_path, dtype=np.float32):\n",
    "    \"\"\"Reads asc file and returns headers and data as numpy array\n",
    "    Args:\n",
    "            file_path (str): The file path\n",
    "    Returns:\n",
    "            header: The ascii header\n",
    "            data: The ascii data as a numpy array of doubles\n",
    "    \"\"\"\n",
    "\n",
    "    header = {}\n",
    "    data = []\n",
    "\n",
    "    with open(file_path, \"r\") as file:\n",
    "        # Read header information\n",
    "        for _ in range(6):\n",
    "            line = file.readline().strip().split()\n",
    "            header[line[0]] = float(line[1])\n",
    "\n",
    "        # Read data values\n",
    "        for line in file:\n",
    "            data_row = [float(value) for value in line.strip().split()]\n",
    "            data.insert(0, data_row)  # Insert row at the beginning\n",
    "\n",
    "        # Flatten the data\n",
    "        data = np.array(data).flatten().astype(dtype)\n",
    "\n",
    "    return header, data"
   ]
  },
  {
   "cell_type": "code",
   "execution_count": 6,
   "metadata": {},
   "outputs": [],
   "source": [
    "header, values_np = read_asc_file(\"./data_examples/gaussian_bump.asc\", dtype=np.float32)"
   ]
  },
  {
   "cell_type": "markdown",
   "metadata": {},
   "source": [
    "We can visualize the data read from asc"
   ]
  },
  {
   "cell_type": "code",
   "execution_count": 7,
   "metadata": {},
   "outputs": [
    {
     "data": {
      "image/png": "[encoded data removed]",
      "text/plain": [
       "<Figure size 432x288 with 1 Axes>"
      ]
     },
     "metadata": {
      "needs_background": "light"
     },
     "output_type": "display_data"
    }
   ],
   "source": [
    "values_np_matrix = np.reshape(values_np, (int(header[\"nrows\"]), int(header[\"ncols\"])))\n",
    "plt.imshow(values_np_matrix, cmap=\"viridis\", interpolation=\"nearest\")\n",
    "plt.title(\"gaussian bump\")\n",
    "plt.show()"
   ]
  },
  {
   "cell_type": "markdown",
   "metadata": {},
   "source": [
    "We can store the ascii data in a gridded sample instance, assuming uniform spacing"
   ]
  },
  {
   "cell_type": "code",
   "execution_count": 8,
   "metadata": {},
   "outputs": [],
   "source": [
    "num_sample_x_coordinates = (num_columns - 1) * 2 + 1\n",
    "num_sample_y_coordinates = (num_rows - 1) * 2 + 1\n",
    "gridded_samples = GriddedSamples(\n",
    "    num_x=num_sample_x_coordinates,\n",
    "    num_y=num_sample_y_coordinates,\n",
    "    x_origin=0.0,\n",
    "    y_origin=-0.0,\n",
    "    cell_size=5.0,\n",
    "    values=values_np,\n",
    ")"
   ]
  },
  {
   "cell_type": "markdown",
   "metadata": {},
   "source": [
    "Set the parameters for the mesh refinement algorithm. Note the ridge refinement type must be set correctly "
   ]
  },
  {
   "cell_type": "code",
   "execution_count": 9,
   "metadata": {},
   "outputs": [],
   "source": [
    "refinement_params = MeshRefinementParameters(\n",
    "    refine_intersected=False,\n",
    "    use_mass_center_when_refining=False,\n",
    "    min_edge_size=2.0,\n",
    "    refinement_type=RefinementType.RIDGE_DETECTION,\n",
    "    connect_hanging_nodes=True,\n",
    "    account_for_samples_outside_face=False,\n",
    "    max_refinement_iterations=1,\n",
    ")"
   ]
  },
  {
   "cell_type": "markdown",
   "metadata": {},
   "source": [
    "Refinement can now be performed"
   ]
  },
  {
   "cell_type": "code",
   "execution_count": 10,
   "metadata": {},
   "outputs": [],
   "source": [
    "relative_search_radius = 1.01\n",
    "minimum_num_samples = 1\n",
    "number_of_smoothing_iterations = 0\n",
    "\n",
    "mk.mesh2d_refine_ridges_based_on_gridded_samples(\n",
    "    gridded_samples=gridded_samples,\n",
    "    relative_search_radius=relative_search_radius,\n",
    "    minimum_num_samples=minimum_num_samples,\n",
    "    number_of_smoothing_iterations=number_of_smoothing_iterations,\n",
    "    mesh_refinement_params=refinement_params,\n",
    ")"
   ]
  },
  {
   "cell_type": "markdown",
   "metadata": {},
   "source": [
    "We can now visualize the refined grid"
   ]
  },
  {
   "cell_type": "code",
   "execution_count": 11,
   "metadata": {},
   "outputs": [
    {
     "data": {
      "image/png": "[encoded data removed]",
      "text/plain": [
       "<Figure size 432x288 with 1 Axes>"
      ]
     },
     "metadata": {
      "needs_background": "light"
     },
     "output_type": "display_data"
    }
   ],
   "source": [
    "mesh2d_output = mk.mesh2d_get()\n",
    "fig, ax = plt.subplots()\n",
    "mesh2d_output.plot_edges(ax, color=\"black\")"
   ]
  },
  {
   "cell_type": "code",
   "execution_count": null,
   "metadata": {},
   "outputs": [],
   "source": []
  }
 ],
 "metadata": {
  "kernelspec": {
   "display_name": "Python 3",
   "language": "python",
   "name": "python3"
  },
  "language_info": {
   "codemirror_mode": {
    "name": "ipython",
    "version": 3
   },
   "file_extension": ".py",
   "mimetype": "text/x-python",
   "name": "python",
   "nbconvert_exporter": "python",
   "pygments_lexer": "ipython3",
   "version": "3.8.6"
  }
 },
 "nbformat": 4,
 "nbformat_minor": 5
}
