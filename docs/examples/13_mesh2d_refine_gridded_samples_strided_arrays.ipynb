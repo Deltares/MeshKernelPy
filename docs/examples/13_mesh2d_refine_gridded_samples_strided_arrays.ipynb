{
 "cells": [
  {
   "cell_type": "markdown",
   "metadata": {},
   "source": [
    "# Mesh2d refine based on gridded samples with strided arrays"
   ]
  },
  {
   "cell_type": "code",
   "execution_count": 4,
   "metadata": {},
   "outputs": [
    {
     "data": {
      "text/plain": [
       "'C:\\\\Users\\\\carniato\\\\AppData\\\\Roaming\\\\Python\\\\Python38\\\\site-packages\\\\meshkernel\\\\meshkernel.py'"
      ]
     },
     "execution_count": 4,
     "metadata": {},
     "output_type": "execute_result"
    }
   ],
   "source": [
    "import matplotlib.pyplot as plt\n",
    "plt.close('all')\n",
    "import numpy as np\n",
    "from meshkernel import MeshKernel, ProjectionType, MakeGridParameters, GriddedSamples, MeshRefinementParameters, RefinementType\n",
    "import xarray as xr\n",
    "\n",
    "import inspect\n",
    "inspect.getfile(MeshKernel)\n"
   ]
  },
  {
   "cell_type": "markdown",
   "metadata": {},
   "source": [
    "### Import sampled bathymetry generating non contiguous arrays"
   ]
  },
  {
   "cell_type": "code",
   "execution_count": 2,
   "metadata": {},
   "outputs": [],
   "source": [
    "lon_min, lon_max, lat_min, lat_max = 142, 150, -42, -39\n",
    "dxy = 0.5\n",
    "\n",
    "file_nc_bathy = r'p:\\metocean-data\\open\\GEBCO\\2021\\GEBCO_2021.nc'\n",
    "data_bathy = xr.open_dataset(file_nc_bathy)\n",
    "data_bathy_sel = data_bathy.sel(lon=slice(lon_min,lon_max,10),lat=slice(lat_min,lat_max,10)).elevation"
   ]
  },
  {
   "cell_type": "markdown",
   "metadata": {},
   "source": [
    "### Generate rectangular mesh"
   ]
  },
  {
   "cell_type": "code",
   "execution_count": 3,
   "metadata": {},
   "outputs": [],
   "source": [
    "# create base grid\n",
    "make_grid_parameters = MakeGridParameters(angle=0,\n",
    "                                          origin_x=lon_min,\n",
    "                                          origin_y=lat_min,\n",
    "                                          upper_right_x=lon_max,\n",
    "                                          upper_right_y=lat_max,\n",
    "                                          block_size_x=dxy,\n",
    "                                          block_size_y=dxy)\n",
    "\n",
    "mk = MeshKernel(projection=ProjectionType(1))\n",
    "mk.curvilinear_compute_rectangular_grid_on_extension(make_grid_parameters)\n",
    "mk.curvilinear_convert_to_mesh2d()"
   ]
  },
  {
   "cell_type": "markdown",
   "metadata": {},
   "source": [
    "### Refine the mesh"
   ]
  },
  {
   "cell_type": "code",
   "execution_count": null,
   "metadata": {},
   "outputs": [],
   "source": [
    "lon_np = data_bathy_sel.lon.to_numpy()\n",
    "lat_np = data_bathy_sel.lat.to_numpy()\n",
    "values_np = data_bathy_sel.to_numpy().flatten().astype(np.float32)\n",
    "gridded_samples = GriddedSamples(x_coordinates=lon_np,y_coordinates=lat_np,values=values_np)\n",
    "\n",
    "#refinement\n",
    "mesh_refinement_parameters = MeshRefinementParameters(min_edge_size=1000, refinement_type= RefinementType.WAVE_COURANT)\n",
    "\n",
    "mk.mesh2d_refine_based_on_gridded_samples(gridded_samples=gridded_samples,\n",
    "                                           mesh_refinement_params=mesh_refinement_parameters)"
   ]
  },
  {
   "cell_type": "markdown",
   "metadata": {},
   "source": [
    "### Plot the refined mesh"
   ]
  },
  {
   "cell_type": "code",
   "execution_count": null,
   "metadata": {},
   "outputs": [],
   "source": [
    "fig, ax = plt.subplots()\n",
    "mk.mesh2d_get().plot_edges(ax=ax,linewidth=1)"
   ]
  },
  {
   "cell_type": "code",
   "execution_count": null,
   "metadata": {},
   "outputs": [],
   "source": []
  }
 ],
 "metadata": {
  "kernelspec": {
   "display_name": "Python 3",
   "language": "python",
   "name": "python3"
  }
 },
 "nbformat": 4,
 "nbformat_minor": 5
}
