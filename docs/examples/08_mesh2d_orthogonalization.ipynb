{
 "cells": [
  {
   "cell_type": "markdown",
   "metadata": {},
   "source": [
    "# Orthogonalizing a large mesh"
   ]
  },
  {
   "cell_type": "markdown",
   "metadata": {},
   "source": [
    "This is an example of loading and orthogonalizing a large mesh2d. At the very beginning, the necessary libraries have to be imported. In this example we also use the UGrid library for loading the mesh2d correctly "
   ]
  },
  {
   "cell_type": "code",
   "execution_count": 1,
   "id": "dd00661c",
   "metadata": {},
   "outputs": [],
   "source": [
    "import matplotlib.pyplot as plt\n",
    "import numpy as np\n",
    "import pandas as pd\n",
    "from meshkernel import (\n",
    "    GeometryList,\n",
    "    MeshKernel,\n",
    "    OrthogonalizationParameters,\n",
    "    ProjectionType,\n",
    "    Mesh2d,\n",
    ")\n",
    "from ugrid import UGrid, UGridMesh2D"
   ]
  },
  {
   "cell_type": "markdown",
   "id": "5f78ac42",
   "metadata": {},
   "source": [
    "Define an orthogonality threshold and the file names"
   ]
  },
  {
   "cell_type": "code",
   "execution_count": 2,
   "id": "2d46bc26",
   "metadata": {},
   "outputs": [],
   "source": [
    "orthogonality_criteria = 0.3\n",
    "input_file = \"./Michigan_Huron_ORTHO_mc025_mn5_net.nc\"\n",
    "output_file = \"./Michigan_Huron_orthogonality_issues.xyz\""
   ]
  },
  {
   "cell_type": "markdown",
   "id": "4b3c1986",
   "metadata": {},
   "source": [
    "Read the mesh geometry"
   ]
  },
  {
   "cell_type": "code",
   "execution_count": 3,
   "id": "2cf31906",
   "metadata": {},
   "outputs": [
    {
     "ename": "UGridError",
     "evalue": "No such file or directory\nfile: D:\\ENGINES\\io_netcdf_investigation\\UGrid\\UGrid\\UGrid\\extern\\netcdf-cxx4\\cxx4\\ncFile.cpp  line:152",
     "output_type": "error",
     "traceback": [
      "\u001b[1;31m---------------------------------------------------------------------------\u001b[0m",
      "\u001b[1;31mUGridError\u001b[0m                                Traceback (most recent call last)",
      "\u001b[1;32mc:\\Users\\sayed\\work\\repositories\\MeshKernelPy\\docs\\examples\\08_mesh2d_orthogonalization.ipynb Cell 7\u001b[0m line \u001b[0;36m1\n\u001b[1;32m----> <a href='vscode-notebook-cell:/c%3A/Users/sayed/work/repositories/MeshKernelPy/docs/examples/08_mesh2d_orthogonalization.ipynb#X44sZmlsZQ%3D%3D?line=0'>1</a>\u001b[0m \u001b[39mwith\u001b[39;00m UGrid(input_file, \u001b[39m\"\u001b[39;49m\u001b[39mr\u001b[39;49m\u001b[39m\"\u001b[39;49m) \u001b[39mas\u001b[39;00m ug:\n\u001b[0;32m      <a href='vscode-notebook-cell:/c%3A/Users/sayed/work/repositories/MeshKernelPy/docs/examples/08_mesh2d_orthogonalization.ipynb#X44sZmlsZQ%3D%3D?line=1'>2</a>\u001b[0m     num_mesh2d_topologies \u001b[39m=\u001b[39m ug\u001b[39m.\u001b[39mmesh2d_get_num_topologies()\n\u001b[0;32m      <a href='vscode-notebook-cell:/c%3A/Users/sayed/work/repositories/MeshKernelPy/docs/examples/08_mesh2d_orthogonalization.ipynb#X44sZmlsZQ%3D%3D?line=2'>3</a>\u001b[0m     mesh2d_ugrid \u001b[39m=\u001b[39m ug\u001b[39m.\u001b[39mmesh2d_get(num_mesh2d_topologies \u001b[39m-\u001b[39m \u001b[39m1\u001b[39m)\n",
      "File \u001b[1;32mc:\\Users\\sayed\\AppData\\Local\\Programs\\Python\\Python311\\Lib\\site-packages\\ugrid\\ugrid.py:58\u001b[0m, in \u001b[0;36mUGrid.__init__\u001b[1;34m(self, file_path, method)\u001b[0m\n\u001b[0;32m     55\u001b[0m     \u001b[39mraise\u001b[39;00m \u001b[39mOSError\u001b[39;00m(\u001b[39mf\u001b[39m\u001b[39m\"\u001b[39m\u001b[39mUnsupported operating system: \u001b[39m\u001b[39m{\u001b[39;00msystem\u001b[39m}\u001b[39;00m\u001b[39m\"\u001b[39m)\n\u001b[0;32m     57\u001b[0m \u001b[39mself\u001b[39m\u001b[39m.\u001b[39mlib \u001b[39m=\u001b[39m CDLL(\u001b[39mstr\u001b[39m(lib_path))\n\u001b[1;32m---> 58\u001b[0m \u001b[39mself\u001b[39;49m\u001b[39m.\u001b[39;49m__open(file_path, method)\n",
      "File \u001b[1;32mc:\\Users\\sayed\\AppData\\Local\\Programs\\Python\\Python311\\Lib\\site-packages\\ugrid\\ugrid.py:94\u001b[0m, in \u001b[0;36mUGrid.__open\u001b[1;34m(self, file_path, method)\u001b[0m\n\u001b[0;32m     91\u001b[0m \u001b[39mself\u001b[39m\u001b[39m.\u001b[39m_file_id \u001b[39m=\u001b[39m c_int(\u001b[39m-\u001b[39m\u001b[39m1\u001b[39m)\n\u001b[0;32m     93\u001b[0m file_path_bytes \u001b[39m=\u001b[39m \u001b[39mbytes\u001b[39m(file_path, encoding\u001b[39m=\u001b[39m\u001b[39m\"\u001b[39m\u001b[39mutf8\u001b[39m\u001b[39m\"\u001b[39m)\n\u001b[1;32m---> 94\u001b[0m \u001b[39mself\u001b[39;49m\u001b[39m.\u001b[39;49m__execute_function(\n\u001b[0;32m     95\u001b[0m     \u001b[39mself\u001b[39;49m\u001b[39m.\u001b[39;49mlib\u001b[39m.\u001b[39;49mug_file_open,\n\u001b[0;32m     96\u001b[0m     file_path_bytes,\n\u001b[0;32m     97\u001b[0m     file_mode,\n\u001b[0;32m     98\u001b[0m     byref(\u001b[39mself\u001b[39;49m\u001b[39m.\u001b[39;49m_file_id),\n\u001b[0;32m     99\u001b[0m )\n",
      "File \u001b[1;32mc:\\Users\\sayed\\AppData\\Local\\Programs\\Python\\Python311\\Lib\\site-packages\\ugrid\\ugrid.py:831\u001b[0m, in \u001b[0;36mUGrid.__execute_function\u001b[1;34m(self, function, *args)\u001b[0m\n\u001b[0;32m    829\u001b[0m \u001b[39mif\u001b[39;00m function(\u001b[39m*\u001b[39margs) \u001b[39m!=\u001b[39m Status\u001b[39m.\u001b[39mSUCCESS:\n\u001b[0;32m    830\u001b[0m     error_message \u001b[39m=\u001b[39m \u001b[39mself\u001b[39m\u001b[39m.\u001b[39m__get_error()\n\u001b[1;32m--> 831\u001b[0m     \u001b[39mraise\u001b[39;00m UGridError(error_message)\n",
      "\u001b[1;31mUGridError\u001b[0m: No such file or directory\nfile: D:\\ENGINES\\io_netcdf_investigation\\UGrid\\UGrid\\UGrid\\extern\\netcdf-cxx4\\cxx4\\ncFile.cpp  line:152"
     ]
    }
   ],
   "source": [
    "with UGrid(input_file, \"r\") as ug:\n",
    "    num_mesh2d_topologies = ug.mesh2d_get_num_topologies()\n",
    "    mesh2d_ugrid = ug.mesh2d_get(num_mesh2d_topologies - 1)"
   ]
  },
  {
   "cell_type": "markdown",
   "id": "4fed9273",
   "metadata": {},
   "source": [
    "Create a meshkernel mesh2d from the nodes and edges"
   ]
  },
  {
   "cell_type": "code",
   "execution_count": null,
   "id": "cf9062dc",
   "metadata": {},
   "outputs": [],
   "source": [
    "mesh2d_mk = Mesh2d()\n",
    "mesh2d_mk.node_x = mesh2d_ugrid.node_x\n",
    "mesh2d_mk.node_y = mesh2d_ugrid.node_y\n",
    "mesh2d_mk.edge_nodes = mesh2d_ugrid.edge_nodes"
   ]
  },
  {
   "cell_type": "markdown",
   "id": "2c971c9e",
   "metadata": {},
   "source": [
    "Create a meshkernel instance "
   ]
  },
  {
   "cell_type": "code",
   "execution_count": null,
   "id": "0efbd17c",
   "metadata": {},
   "outputs": [],
   "source": [
    "mk = MeshKernel(ProjectionType.SPHERICAL)"
   ]
  },
  {
   "cell_type": "markdown",
   "id": "21b8280a",
   "metadata": {},
   "source": [
    "Set the mesh (expensive call)"
   ]
  },
  {
   "cell_type": "code",
   "execution_count": null,
   "id": "cf2f5c45",
   "metadata": {},
   "outputs": [],
   "source": [
    "mk.mesh2d_set(mesh2d_mk)"
   ]
  },
  {
   "cell_type": "markdown",
   "id": "943470f6",
   "metadata": {},
   "source": [
    "Get the mesh"
   ]
  },
  {
   "cell_type": "code",
   "execution_count": null,
   "id": "81822a8c",
   "metadata": {},
   "outputs": [],
   "source": [
    "mesh2d_output = mk.mesh2d_get()"
   ]
  },
  {
   "cell_type": "code",
   "execution_count": null,
   "id": "b870325b",
   "metadata": {},
   "outputs": [
    {
     "data": {
      "image/png": "[encoded data removed]",
      "text/plain": [
       "<Figure size 432x288 with 1 Axes>"
      ]
     },
     "metadata": {
      "needs_background": "light"
     },
     "output_type": "display_data"
    }
   ],
   "source": [
    "fig, ax = plt.subplots()\n",
    "mesh2d_output.plot_edges(ax, color=\"black\")"
   ]
  },
  {
   "cell_type": "markdown",
   "id": "b1f80138",
   "metadata": {},
   "source": [
    "Inquire orthogonality (expensive call)"
   ]
  },
  {
   "cell_type": "code",
   "execution_count": null,
   "id": "b9d7f79f",
   "metadata": {},
   "outputs": [],
   "source": [
    "orthogonality = mk.mesh2d_get_orthogonality().values"
   ]
  },
  {
   "cell_type": "markdown",
   "id": "96b84456",
   "metadata": {},
   "source": [
    "Extract edges with orthogonality value above the orthogonality_criteria"
   ]
  },
  {
   "cell_type": "code",
   "execution_count": null,
   "id": "59754959",
   "metadata": {},
   "outputs": [],
   "source": [
    "criteria_indices = np.where(orthogonality > orthogonality_criteria)[0]"
   ]
  },
  {
   "cell_type": "markdown",
   "id": "31401f4b",
   "metadata": {},
   "source": [
    "Save the extracted edges to file"
   ]
  },
  {
   "cell_type": "code",
   "execution_count": null,
   "id": "22a2c2ab",
   "metadata": {},
   "outputs": [],
   "source": [
    "xyz_df = pd.DataFrame([])\n",
    "xyz_df[\"edge_x\"] = mesh2d_output.edge_x[criteria_indices]\n",
    "xyz_df[\"edge_y\"] = mesh2d_output.edge_y[criteria_indices]\n",
    "xyz_df[\"orthogonality\"] = orthogonality[criteria_indices]\n",
    "xyz_df.to_csv(output_file, index=False, header=False, sep=\" \")"
   ]
  },
  {
   "cell_type": "markdown",
   "id": "dc56e3ae",
   "metadata": {},
   "source": [
    "## Orthogonalizing "
   ]
  },
  {
   "cell_type": "code",
   "execution_count": null,
   "id": "28739a85",
   "metadata": {},
   "outputs": [],
   "source": [
    "selecting_polygon = GeometryList(\n",
    "    np.empty(0, dtype=np.double), np.empty(0, dtype=np.double)\n",
    ")\n",
    "land_boundaries = GeometryList(\n",
    "    np.empty(0, dtype=np.double), np.empty(0, dtype=np.double)\n",
    ")"
   ]
  },
  {
   "cell_type": "code",
   "execution_count": null,
   "id": "25fe508a",
   "metadata": {},
   "outputs": [],
   "source": [
    "mk.mesh2d_compute_orthogonalization(\n",
    "    project_to_land_boundary_option=0,\n",
    "    orthogonalization_parameters=OrthogonalizationParameters(outer_iterations=1),\n",
    "    selecting_polygon=selecting_polygon,\n",
    "    land_boundaries=land_boundaries,\n",
    ")"
   ]
  },
  {
   "cell_type": "code",
   "execution_count": null,
   "metadata": {},
   "outputs": [],
   "source": [
    "mesh2d_output = mk.mesh2d_get()"
   ]
  },
  {
   "cell_type": "code",
   "execution_count": null,
   "metadata": {},
   "outputs": [
    {
     "data": {
      "image/png": "[encoded data removed]",
      "text/plain": [
       "<Figure size 432x288 with 1 Axes>"
      ]
     },
     "metadata": {
      "needs_background": "light"
     },
     "output_type": "display_data"
    }
   ],
   "source": [
    "fig, ax = plt.subplots()\n",
    "mesh2d_output.plot_edges(ax, color=\"black\")"
   ]
  },
  {
   "cell_type": "code",
   "execution_count": null,
   "metadata": {},
   "outputs": [],
   "source": []
  }
 ],
 "metadata": {
  "kernelspec": {
   "display_name": "Python 3",
   "language": "python",
   "name": "python3"
  },
  "language_info": {
   "codemirror_mode": {
    "name": "ipython",
    "version": 3
   },
   "file_extension": ".py",
   "mimetype": "text/x-python",
   "name": "python",
   "nbconvert_exporter": "python",
   "pygments_lexer": "ipython3",
   "version": "3.11.3"
  }
 },
 "nbformat": 4,
 "nbformat_minor": 5
}
