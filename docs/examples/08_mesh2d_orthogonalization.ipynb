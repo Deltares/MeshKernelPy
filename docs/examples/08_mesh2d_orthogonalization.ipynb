{
 "cells": [
  {
   "cell_type": "markdown",
   "metadata": {},
   "source": [
    "# Orthogonalizing a large mesh"
   ]
  },
  {
   "cell_type": "markdown",
   "metadata": {},
   "source": [
    "This is an example of loading and orthogonalizing a large mesh2d. At the very beginning, the necessary libraries have to be imported. In this example we also use the UGrid library for loading the mesh2d correctly "
   ]
  },
  {
   "cell_type": "code",
   "execution_count": 1,
   "metadata": {},
   "outputs": [],
   "source": [
    "import matplotlib.pyplot as plt\n",
    "import numpy as np\n",
    "import pandas as pd\n",
    "from meshkernel import GeometryList, MeshKernel, OrthogonalizationParameters, ProjectionType, Mesh2d\n",
    "from ugrid import UGrid, UGridMesh2D"
   ]
  },
  {
   "cell_type": "markdown",
   "metadata": {},
   "source": [
    "Define an orthogonality threshold and the file names"
   ]
  },
  {
   "cell_type": "code",
   "execution_count": 2,
   "metadata": {},
   "outputs": [],
   "source": [
    "orthogonality_criteria = 0.3\n",
    "input_file = \"./Michigan_Huron_ORTHO_mc025_mn5_net.nc\"\n",
    "output_file = \"./Michigan_Huron_orthogonality_issues.xyz\""
   ]
  },
  {
   "cell_type": "markdown",
   "metadata": {},
   "source": [
    "Read the mesh geometry"
   ]
  },
  {
   "cell_type": "code",
   "execution_count": 3,
   "metadata": {},
   "outputs": [],
   "source": [
    "with UGrid(input_file, \"r\") as ug:\n",
    "    num_mesh2d_topologies = ug.mesh2d_get_num_topologies()\n",
    "    mesh2d_ugrid = ug.mesh2d_get(num_mesh2d_topologies - 1)"
   ]
  },
  {
   "cell_type": "markdown",
   "metadata": {},
   "source": [
    "Create a meshkernel mesh2d from the nodes and edges"
   ]
  },
  {
   "cell_type": "code",
   "execution_count": 4,
   "metadata": {},
   "outputs": [],
   "source": [
    "mesh2d_mk = Mesh2d()\n",
    "mesh2d_mk.node_x = mesh2d_ugrid.node_x\n",
    "mesh2d_mk.node_y = mesh2d_ugrid.node_y\n",
    "mesh2d_mk.edge_nodes = mesh2d_ugrid.edge_nodes"
   ]
  },
  {
   "cell_type": "markdown",
   "metadata": {},
   "source": [
    "Create a meshkernel instance "
   ]
  },
  {
   "cell_type": "code",
   "execution_count": 5,
   "metadata": {},
   "outputs": [],
   "source": [
    "mk = MeshKernel(ProjectionType.SPHERICAL)"
   ]
  },
  {
   "cell_type": "markdown",
   "metadata": {},
   "source": [
    "Set the mesh (expensive call)"
   ]
  },
  {
   "cell_type": "code",
   "execution_count": 6,
   "metadata": {},
   "outputs": [],
   "source": [
    "mk.mesh2d_set(mesh2d_mk)"
   ]
  },
  {
   "cell_type": "markdown",
   "metadata": {},
   "source": [
    "Get the mesh"
   ]
  },
  {
   "cell_type": "code",
   "execution_count": 7,
   "metadata": {},
   "outputs": [],
   "source": [
    "mesh2d_output = mk.mesh2d_get()"
   ]
  },
  {
   "cell_type": "code",
   "execution_count": 8,
   "metadata": {},
   "outputs": [
    {
     "data": {
      "image/png": "[encoded data removed]",
      "text/plain": [
       "<Figure size 432x288 with 1 Axes>"
      ]
     },
     "metadata": {
      "needs_background": "light"
     },
     "output_type": "display_data"
    }
   ],
   "source": [
    "fig, ax = plt.subplots()\n",
    "mesh2d_output.plot_edges(ax, color=\"black\")"
   ]
  },
  {
   "cell_type": "markdown",
   "metadata": {},
   "source": [
    "Inquire orthogonality (expensive call)"
   ]
  },
  {
   "cell_type": "code",
   "execution_count": 9,
   "metadata": {},
   "outputs": [],
   "source": [
    "orthogonality = mk.mesh2d_get_orthogonality().values"
   ]
  },
  {
   "cell_type": "markdown",
   "metadata": {},
   "source": [
    "Extract edges with orthogonality value above the orthogonality_criteria"
   ]
  },
  {
   "cell_type": "code",
   "execution_count": 10,
   "metadata": {},
   "outputs": [],
   "source": [
    "criteria_indices = np.where(orthogonality > orthogonality_criteria)[0]"
   ]
  },
  {
   "cell_type": "markdown",
   "metadata": {},
   "source": [
    "Save the extracted edges to file"
   ]
  },
  {
   "cell_type": "code",
   "execution_count": 11,
   "metadata": {},
   "outputs": [],
   "source": [
    "xyz_df = pd.DataFrame([])\n",
    "xyz_df['edge_x'] = mesh2d_output.edge_x[criteria_indices]\n",
    "xyz_df['edge_y'] = mesh2d_output.edge_y[criteria_indices]\n",
    "xyz_df['orthogonality'] = orthogonality[criteria_indices]\n",
    "xyz_df.to_csv(output_file,index=False,header=False,sep=' ')"
   ]
  },
  {
   "cell_type": "markdown",
   "metadata": {},
   "source": [
    "## Orthogonalizing "
   ]
  },
  {
   "cell_type": "code",
   "execution_count": 12,
   "metadata": {},
   "outputs": [],
   "source": [
    "selecting_polygon = GeometryList(np.empty(0, dtype=np.double), np.empty(0, dtype=np.double))\n",
    "land_boundaries = GeometryList(np.empty(0, dtype=np.double), np.empty(0, dtype=np.double))"
   ]
  },
  {
   "cell_type": "code",
   "execution_count": 13,
   "metadata": {},
   "outputs": [],
   "source": [
    "mk.mesh2d_compute_orthogonalization(project_to_land_boundary_option=0,\n",
    "                                    orthogonalization_parameters=OrthogonalizationParameters(outer_iterations=1),\n",
    "                                    selecting_polygon=selecting_polygon,\n",
    "                                    land_boundaries=land_boundaries)"
   ]
  },
  {
   "cell_type": "code",
   "execution_count": null,
   "metadata": {},
   "outputs": [],
   "source": []
  }
 ],
 "metadata": {
  "kernelspec": {
   "display_name": "Python 3",
   "language": "python",
   "name": "python3"
  },
  "language_info": {
   "codemirror_mode": {
    "name": "ipython",
    "version": 3
   },
   "file_extension": ".py",
   "mimetype": "text/x-python",
   "name": "python",
   "nbconvert_exporter": "python",
   "pygments_lexer": "ipython3",
   "version": "3.8.6"
  }
 },
 "nbformat": 4,
 "nbformat_minor": 5
}
