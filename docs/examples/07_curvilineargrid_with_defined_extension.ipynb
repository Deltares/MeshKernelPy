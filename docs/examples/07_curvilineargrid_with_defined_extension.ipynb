{
 "cells": [
  {
   "cell_type": "markdown",
   "metadata": {},
   "source": [
    "# Curvilinear grid generation with defined extension\n",
    "\n",
    "This is a brief introduction to the process of generating curvilinear grid with a defined extension."
   ]
  },
  {
   "cell_type": "markdown",
   "metadata": {},
   "source": [
    "At the very beginning, the necessary libraries have to be imported."
   ]
  },
  {
   "cell_type": "code",
   "execution_count": 1,
   "metadata": {},
   "outputs": [],
   "source": [
    "import matplotlib.pyplot as plt\n",
    "import numpy as np\n",
    "from meshkernel import GeometryList, GriddedSamples, MakeGridParameters, MeshKernel, MeshRefinementParameters, RefinementType"
   ]
  },
  {
   "cell_type": "markdown",
   "metadata": {},
   "source": [
    "## Create a curvilinear grid in a spherical system"
   ]
  },
  {
   "cell_type": "markdown",
   "metadata": {},
   "source": [
    "The grid will extend from the origin to the upper right corner, automatically computing the number of rows and columns while adjusting the latitude to preserve an aspect ratio close to one in real-world distances."
   ]
  },
  {
   "cell_type": "code",
   "execution_count": 2,
   "metadata": {},
   "outputs": [],
   "source": [
    "lon_min,lon_max = -1,-0.2\n",
    "lat_min,lat_max = 49.1,49.6\n",
    "lon_res,lat_res = 0.1,0.1\n",
    "\n",
    "make_grid_parameters = MakeGridParameters()\n",
    "make_grid_parameters.origin_x = lon_min\n",
    "make_grid_parameters.origin_y = lat_min\n",
    "make_grid_parameters.upper_right_x = lon_max\n",
    "make_grid_parameters.upper_right_y = lat_max\n",
    "make_grid_parameters.block_size_x = lon_res\n",
    "make_grid_parameters.block_size_y = lat_res\n",
    "\n",
    "mk = MeshKernel(is_geographic=True)\n",
    "mk.curvilinear_make_uniform_on_extension(make_grid_parameters)"
   ]
  },
  {
   "cell_type": "markdown",
   "metadata": {},
   "source": [
    "Convert the curvilinear mesh to an unstructured mesh"
   ]
  },
  {
   "cell_type": "code",
   "execution_count": 3,
   "metadata": {},
   "outputs": [],
   "source": [
    "mk.curvilinear_convert_to_mesh2d() "
   ]
  },
  {
   "cell_type": "markdown",
   "metadata": {},
   "source": [
    "Plot the mesh"
   ]
  },
  {
   "cell_type": "code",
   "execution_count": 4,
   "metadata": {},
   "outputs": [
    {
     "data": {
      "image/png": "[encoded data removed]",
      "text/plain": [
       "<Figure size 432x288 with 1 Axes>"
      ]
     },
     "metadata": {
      "needs_background": "light"
     },
     "output_type": "display_data"
    }
   ],
   "source": [
    "mesh2d = mk.mesh2d_get()\n",
    "fig, ax = plt.subplots()\n",
    "mesh2d.plot_edges(ax, color=\"black\")"
   ]
  },
  {
   "cell_type": "markdown",
   "metadata": {},
   "source": [
    "## Create a curvilinear grid in a cartesian system"
   ]
  },
  {
   "cell_type": "markdown",
   "metadata": {},
   "source": [
    "In the cartesian case no adjustment of the y coordinate is required"
   ]
  },
  {
   "cell_type": "code",
   "execution_count": 5,
   "metadata": {},
   "outputs": [],
   "source": [
    "min_x,min_y = 0,0\n",
    "max_x,max_y = 10.0,10.0\n",
    "block_size_x,block_size_y =1,2\n",
    "\n",
    "make_grid_parameters = MakeGridParameters()\n",
    "make_grid_parameters.origin_x = min_x\n",
    "make_grid_parameters.origin_y = min_y\n",
    "make_grid_parameters.upper_right_x = max_x\n",
    "make_grid_parameters.upper_right_y = max_y\n",
    "make_grid_parameters.block_size_x = block_size_x\n",
    "make_grid_parameters.block_size_y = block_size_y\n",
    "\n",
    "mk = MeshKernel(is_geographic=False)\n",
    "mk.curvilinear_make_uniform_on_extension(make_grid_parameters)"
   ]
  },
  {
   "cell_type": "markdown",
   "metadata": {},
   "source": [
    "Convert the curvilinear mesh to an unstructured mesh"
   ]
  },
  {
   "cell_type": "code",
   "execution_count": 6,
   "metadata": {},
   "outputs": [],
   "source": [
    "mk.curvilinear_convert_to_mesh2d() "
   ]
  },
  {
   "cell_type": "markdown",
   "metadata": {},
   "source": [
    "Plot the mesh"
   ]
  },
  {
   "cell_type": "code",
   "execution_count": 7,
   "metadata": {},
   "outputs": [
    {
     "data": {
      "image/png": "[encoded data removed]",
      "text/plain": [
       "<Figure size 432x288 with 1 Axes>"
      ]
     },
     "metadata": {
      "needs_background": "light"
     },
     "output_type": "display_data"
    }
   ],
   "source": [
    "mesh2d = mk.mesh2d_get()\n",
    "fig, ax = plt.subplots()\n",
    "mesh2d.plot_edges(ax, color=\"black\")"
   ]
  },
  {
   "cell_type": "code",
   "execution_count": null,
   "metadata": {},
   "outputs": [],
   "source": []
  }
 ],
 "metadata": {
  "kernelspec": {
   "display_name": "Python 3",
   "language": "python",
   "name": "python3"
  },
  "language_info": {
   "codemirror_mode": {
    "name": "ipython",
    "version": 3
   },
   "file_extension": ".py",
   "mimetype": "text/x-python",
   "name": "python",
   "nbconvert_exporter": "python",
   "pygments_lexer": "ipython3",
   "version": "3.8.6"
  }
 },
 "nbformat": 4,
 "nbformat_minor": 5
}
