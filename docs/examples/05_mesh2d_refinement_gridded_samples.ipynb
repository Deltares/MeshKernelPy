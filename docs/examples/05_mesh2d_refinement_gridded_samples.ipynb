{
 "cells": [
  {
   "cell_type": "markdown",
   "metadata": {},
   "source": [
    "# Mesh2d refinement based on gridded samples\n",
    "\n",
    "This is a brief introduction to the process of mesh refinement using gridded samples. When refining the mesh using gridded samples, bilinear interpolation is used to calculate the depth values at the mesh nodes."
   ]
  },
  {
   "cell_type": "markdown",
   "metadata": {},
   "source": [
    "At the very beginning, the necessary libraries have to be imported."
   ]
  },
  {
   "cell_type": "code",
   "execution_count": 18,
   "metadata": {},
   "outputs": [],
   "source": [
    "import matplotlib.pyplot as plt\n",
    "import numpy as np\n",
    "\n",
    "from meshkernel import GeometryList, GriddedSamples, MakeGridParameters, MeshKernel, MeshRefinementParameters, RefinementType"
   ]
  },
  {
   "cell_type": "markdown",
   "metadata": {},
   "source": [
    "`meshkernel` provides a set of convenience methods for creating common meshes.\n",
    "\n",
    "We use the `curvilinear_make_uniform` method to create a simple curvilinear grid.\n",
    "You can look at the documentation in order to find all its parameters."
   ]
  },
  {
   "cell_type": "code",
   "execution_count": 19,
   "metadata": {},
   "outputs": [],
   "source": [
    "mk = MeshKernel()\n",
    "\n",
    "make_grid_parameters = MakeGridParameters()\n",
    "make_grid_parameters.num_columns = 5\n",
    "make_grid_parameters.num_rows = 6\n",
    "make_grid_parameters.angle = 0.0\n",
    "make_grid_parameters.block_size = 100.0\n",
    "make_grid_parameters.origin_x = 0.0\n",
    "make_grid_parameters.origin_y = 0.0\n",
    "make_grid_parameters.block_size_x = 100.0\n",
    "make_grid_parameters.block_size_y = 100.0\n",
    "\n",
    "node_x = np.empty(0, dtype=np.double)\n",
    "node_y = np.empty(0, dtype=np.double)\n",
    "geometry_list = GeometryList(node_x, node_y)\n",
    "    \n",
    "mk.curvilinear_make_uniform(make_grid_parameters, geometry_list)"
   ]
  },
  {
   "cell_type": "markdown",
   "metadata": {},
   "source": [
    "We convert the curvilinear grid to an unstructured mesh and get the resulting mesh2d"
   ]
  },
  {
   "cell_type": "code",
   "execution_count": 20,
   "metadata": {},
   "outputs": [],
   "source": [
    "mk.curvilinear_convert_to_mesh2d()\n",
    "mesh2d_input = mk.mesh2d_get()"
   ]
  },
  {
   "cell_type": "markdown",
   "metadata": {},
   "source": [
    "The generated mesh can be visualized as follow"
   ]
  },
  {
   "cell_type": "code",
   "execution_count": 21,
   "metadata": {},
   "outputs": [
    {
     "data": {
      "image/png": "[encoded data removed]",
      "text/plain": [
       "<Figure size 432x288 with 1 Axes>"
      ]
     },
     "metadata": {
      "needs_background": "light"
     },
     "output_type": "display_data"
    }
   ],
   "source": [
    "fig, ax = plt.subplots()\n",
    "mesh2d_input.plot_edges(ax, color=\"black\")"
   ]
  },
  {
   "cell_type": "markdown",
   "metadata": {},
   "source": [
    "Now we define the gridded samples with uniform spacing"
   ]
  },
  {
   "cell_type": "code",
   "execution_count": 22,
   "metadata": {},
   "outputs": [],
   "source": [
    "gridded_samples = GriddedSamples(\n",
    "    n_cols=8,\n",
    "    n_rows=7,\n",
    "    x_origin=-50.0,\n",
    "    y_origin=-50.0,\n",
    "    origin_location_type=0,\n",
    "    cell_size=100.0,\n",
    "    values=np.array([-0.05] * 72, dtype=np.double))"
   ]
  },
  {
   "cell_type": "markdown",
   "metadata": {},
   "source": [
    "And the parameters for the mesh refinement algorithm"
   ]
  },
  {
   "cell_type": "code",
   "execution_count": 23,
   "metadata": {},
   "outputs": [],
   "source": [
    "refinement_params = MeshRefinementParameters(\n",
    "    refine_intersected=False,\n",
    "    use_mass_center_when_refining=False,\n",
    "    min_face_size=2.0,\n",
    "    refinement_type=RefinementType.WAVE_COURANT,\n",
    "    connect_hanging_nodes=True,\n",
    "    account_for_samples_outside_face=False,\n",
    "    max_refinement_iterations=5)"
   ]
  },
  {
   "cell_type": "markdown",
   "metadata": {},
   "source": [
    "Refinement can now be performed"
   ]
  },
  {
   "cell_type": "code",
   "execution_count": 24,
   "metadata": {},
   "outputs": [],
   "source": [
    "mk.mesh2d_refine_based_on_gridded_samples(gridded_samples, refinement_params, True)"
   ]
  },
  {
   "cell_type": "markdown",
   "metadata": {},
   "source": [
    "We can now visualize the refined grid"
   ]
  },
  {
   "cell_type": "code",
   "execution_count": 25,
   "metadata": {},
   "outputs": [
    {
     "data": {
      "image/png": "[encoded data removed]",
      "text/plain": [
       "<Figure size 432x288 with 1 Axes>"
      ]
     },
     "metadata": {
      "needs_background": "light"
     },
     "output_type": "display_data"
    }
   ],
   "source": [
    "mesh2d_output = mk.mesh2d_get()\n",
    "fig, ax = plt.subplots()\n",
    "mesh2d_output.plot_edges(ax, color=\"black\")"
   ]
  },
  {
   "cell_type": "markdown",
   "metadata": {},
   "source": [
    "If gridding is not uniform, we can use "
   ]
  },
  {
   "cell_type": "code",
   "execution_count": null,
   "metadata": {},
   "outputs": [],
   "source": []
  }
 ],
 "metadata": {
  "kernelspec": {
   "display_name": "Python 3",
   "language": "python",
   "name": "python3"
  },
  "language_info": {
   "codemirror_mode": {
    "name": "ipython",
    "version": 3
   },
   "file_extension": ".py",
   "mimetype": "text/x-python",
   "name": "python",
   "nbconvert_exporter": "python",
   "pygments_lexer": "ipython3",
   "version": "3.8.6"
  }
 },
 "nbformat": 4,
 "nbformat_minor": 5
}
