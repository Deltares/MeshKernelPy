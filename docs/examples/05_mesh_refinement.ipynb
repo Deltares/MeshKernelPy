{
 "cells": [
  {
   "cell_type": "markdown",
   "metadata": {},
   "source": [
    "# MeshKernel refinement\n",
    "\n",
    "This is the basic introduction for refining a mesh using geographical coordinates.\n",
    "\n",
    "At the very beginning, the necessary libraries have to be imported."
   ]
  },
  {
   "cell_type": "code",
   "execution_count": 1,
   "metadata": {},
   "outputs": [],
   "source": [
    "import matplotlib.pyplot as plt\n",
    "import numpy as np\n",
    "import xarray as xr\n",
    "\n",
    "from meshkernel import (\n",
    "    CurvilinearParameters,\n",
    "    MakeGridParameters,\n",
    "    MeshRefinementParameters,\n",
    "    RefinementType,\n",
    "    GeometryList,\n",
    "    MeshKernel\n",
    ")\n",
    "import numpy as np\n",
    "import contextily as ctx\n",
    "\n",
    "plt.close('all')\n"
   ]
  },
  {
   "cell_type": "markdown",
   "metadata": {},
   "source": [
    "Generate a mesh"
   ]
  },
  {
   "cell_type": "code",
   "execution_count": 2,
   "metadata": {},
   "outputs": [],
   "source": [
    "# general settings\n",
    "lon_min,lon_max = -6,2\n",
    "lat_min,lat_max = 48.5,51.2\n",
    "lon_res,lat_res = 0.2,0.2\n",
    "num_x = int(np.ceil((lon_max-lon_min)/lon_res))\n",
    "num_y = int(np.ceil((lat_max-lat_min)/lat_res))\n",
    "\n",
    "\n",
    "\"\"\"\n",
    "Make a regular (potentially rotated) rectilinear grid. First generate a curvilinear grid than convert the curvilinear grid into unstructured grid. The steps are the following:\n",
    "- curvilinear_make_uniform, see the following notebook: https://github.com/Deltares/MeshKernelPy/blob/AddCurvilinearGridSupport/docs/examples/04_curvilineargrid_basics.ipynb\n",
    "- curvilinear_convert_to_mesh2d: https://github.com/Deltares/MeshKernelPy/blob/118cb4953c4e95d5b18ed283bb37f391134b2bb2/meshkernel/meshkernel.py#L1399 \n",
    "\n",
    "\"\"\"\n",
    "\n",
    "# Create an instance of MakeGridParameters and set the values\n",
    "make_grid_parameters = MakeGridParameters()\n",
    "make_grid_parameters.num_columns = num_x\n",
    "make_grid_parameters.num_rows = num_y\n",
    "make_grid_parameters.angle = 0.0\n",
    "#make_grid_parameters.block_size = 0.0\n",
    "make_grid_parameters.origin_x = lon_min\n",
    "make_grid_parameters.origin_y = lat_min\n",
    "make_grid_parameters.block_size_x = lon_res\n",
    "make_grid_parameters.block_size_y = lat_res\n",
    "\n",
    "pol_x = np.empty(0, dtype=np.double)\n",
    "pol_y = np.empty(0, dtype=np.double)\n",
    "geometry_list = GeometryList(pol_x, pol_y)"
   ]
  },
  {
   "cell_type": "markdown",
   "metadata": {},
   "source": [
    "Import bathymetry (GEBCO_2021_cutout.nc)"
   ]
  },
  {
   "cell_type": "code",
   "execution_count": 3,
   "metadata": {},
   "outputs": [],
   "source": [
    "\"\"\"\n",
    "Mesh refinement in MeshKernelPy with bathymetry samples and plot result\n",
    "\"\"\"\n",
    "#select and plot bathy\n",
    "file_nc_bathy = r'.\\data_examples\\refinement\\GEBCO_2021_cutout.nc'\n",
    "data_bathy = xr.open_dataset(file_nc_bathy)\n",
    "data_bathy_sel = data_bathy.sel(lon=slice(lon_min-1,lon_max+1),lat=slice(lat_min-1,lat_max+1))\n",
    "\n",
    "#convert bathy data to geomlist\n",
    "samp_x,samp_y = np.meshgrid(data_bathy_sel.lon.values,data_bathy_sel.lat.values)\n",
    "samp_z = data_bathy_sel.elevation.values.astype(float) \n",
    "samp_x = samp_x.ravel()\n",
    "samp_y = samp_y.ravel()\n",
    "samp_z = samp_z.ravel()\n",
    "geomlist = GeometryList(x_coordinates=samp_x, y_coordinates=samp_y, values=samp_z)\n",
    "\n",
    "#refinement\n",
    "mesh_refinement_parameters = MeshRefinementParameters(refine_intersected=False,\n",
    "                                                      use_mass_center_when_refining=False, \n",
    "                                                      min_face_size=0.01, \n",
    "                                                      refinement_type=RefinementType(1), #Wavecourant/1,\n",
    "                                                      connect_hanging_nodes=True, #set to False to do multiple refinement steps (e.g. for multiple regions)\n",
    "                                                      account_for_samples_outside_face=False, #outsidecell argument for --refine?\n",
    "                                                      max_refinement_iterations=5)"
   ]
  },
  {
   "cell_type": "markdown",
   "metadata": {},
   "source": [
    "Create a curvilinear mesh and convert it to an unstructured mesh"
   ]
  },
  {
   "cell_type": "code",
   "execution_count": 4,
   "metadata": {},
   "outputs": [
    {
     "ename": "MeshKernelError",
     "evalue": "Mesh2D::operator+=: The two meshes cannot be added.",
     "output_type": "error",
     "traceback": [
      "\u001b[1;31m---------------------------------------------------------------------------\u001b[0m",
      "\u001b[1;31mMeshKernelError\u001b[0m                           Traceback (most recent call last)",
      "\u001b[1;32m<ipython-input-4-777855b753d0>\u001b[0m in \u001b[0;36m<module>\u001b[1;34m\u001b[0m\n\u001b[0;32m      1\u001b[0m \u001b[0mmeshkernel\u001b[0m \u001b[1;33m=\u001b[0m \u001b[0mMeshKernel\u001b[0m\u001b[1;33m(\u001b[0m\u001b[0mis_geographic\u001b[0m\u001b[1;33m=\u001b[0m\u001b[1;32mTrue\u001b[0m\u001b[1;33m)\u001b[0m\u001b[1;33m\u001b[0m\u001b[1;33m\u001b[0m\u001b[0m\n\u001b[0;32m      2\u001b[0m \u001b[0mmeshkernel\u001b[0m\u001b[1;33m.\u001b[0m\u001b[0mcurvilinear_make_uniform\u001b[0m\u001b[1;33m(\u001b[0m\u001b[0mmake_grid_parameters\u001b[0m\u001b[1;33m,\u001b[0m \u001b[0mgeometry_list\u001b[0m\u001b[1;33m)\u001b[0m\u001b[1;33m\u001b[0m\u001b[1;33m\u001b[0m\u001b[0m\n\u001b[1;32m----> 3\u001b[1;33m \u001b[0mmeshkernel\u001b[0m\u001b[1;33m.\u001b[0m\u001b[0mcurvilinear_convert_to_mesh2d\u001b[0m\u001b[1;33m(\u001b[0m\u001b[1;33m)\u001b[0m\u001b[1;33m\u001b[0m\u001b[1;33m\u001b[0m\u001b[0m\n\u001b[0m",
      "\u001b[1;32md:\\apps\\python_3_8_6\\lib\\site-packages\\meshkernel\\meshkernel.py\u001b[0m in \u001b[0;36mcurvilinear_convert_to_mesh2d\u001b[1;34m(self)\u001b[0m\n\u001b[0;32m   1402\u001b[0m     \u001b[1;32mdef\u001b[0m \u001b[0mcurvilinear_convert_to_mesh2d\u001b[0m\u001b[1;33m(\u001b[0m\u001b[0mself\u001b[0m\u001b[1;33m)\u001b[0m \u001b[1;33m->\u001b[0m \u001b[1;32mNone\u001b[0m\u001b[1;33m:\u001b[0m\u001b[1;33m\u001b[0m\u001b[1;33m\u001b[0m\u001b[0m\n\u001b[0;32m   1403\u001b[0m         \u001b[1;34m\"\"\"Converts a curvilinear grid to an unstructured mesh\"\"\"\u001b[0m\u001b[1;33m\u001b[0m\u001b[1;33m\u001b[0m\u001b[0m\n\u001b[1;32m-> 1404\u001b[1;33m         self._execute_function(\n\u001b[0m\u001b[0;32m   1405\u001b[0m             \u001b[0mself\u001b[0m\u001b[1;33m.\u001b[0m\u001b[0mlib\u001b[0m\u001b[1;33m.\u001b[0m\u001b[0mmkernel_curvilinear_convert_to_mesh2d\u001b[0m\u001b[1;33m,\u001b[0m \u001b[0mself\u001b[0m\u001b[1;33m.\u001b[0m\u001b[0m_meshkernelid\u001b[0m\u001b[1;33m\u001b[0m\u001b[1;33m\u001b[0m\u001b[0m\n\u001b[0;32m   1406\u001b[0m         )\n",
      "\u001b[1;32md:\\apps\\python_3_8_6\\lib\\site-packages\\meshkernel\\meshkernel.py\u001b[0m in \u001b[0;36m_execute_function\u001b[1;34m(self, function, *args)\u001b[0m\n\u001b[0;32m   1304\u001b[0m         \u001b[1;32mif\u001b[0m \u001b[0mfunction\u001b[0m\u001b[1;33m(\u001b[0m\u001b[1;33m*\u001b[0m\u001b[0margs\u001b[0m\u001b[1;33m)\u001b[0m \u001b[1;33m!=\u001b[0m \u001b[0mStatus\u001b[0m\u001b[1;33m.\u001b[0m\u001b[0mSUCCESS\u001b[0m\u001b[1;33m:\u001b[0m\u001b[1;33m\u001b[0m\u001b[1;33m\u001b[0m\u001b[0m\n\u001b[0;32m   1305\u001b[0m             \u001b[0merror_message\u001b[0m \u001b[1;33m=\u001b[0m \u001b[0mself\u001b[0m\u001b[1;33m.\u001b[0m\u001b[0m_get_error\u001b[0m\u001b[1;33m(\u001b[0m\u001b[1;33m)\u001b[0m\u001b[1;33m\u001b[0m\u001b[1;33m\u001b[0m\u001b[0m\n\u001b[1;32m-> 1306\u001b[1;33m             \u001b[1;32mraise\u001b[0m \u001b[0mMeshKernelError\u001b[0m\u001b[1;33m(\u001b[0m\u001b[0merror_message\u001b[0m\u001b[1;33m)\u001b[0m\u001b[1;33m\u001b[0m\u001b[1;33m\u001b[0m\u001b[0m\n\u001b[0m\u001b[0;32m   1307\u001b[0m \u001b[1;33m\u001b[0m\u001b[0m\n\u001b[0;32m   1308\u001b[0m     \u001b[1;32mdef\u001b[0m \u001b[0m_curvilineargrid_get_dimensions\u001b[0m\u001b[1;33m(\u001b[0m\u001b[0mself\u001b[0m\u001b[1;33m)\u001b[0m \u001b[1;33m->\u001b[0m \u001b[0mCCurvilinearGrid\u001b[0m\u001b[1;33m:\u001b[0m\u001b[1;33m\u001b[0m\u001b[1;33m\u001b[0m\u001b[0m\n",
      "\u001b[1;31mMeshKernelError\u001b[0m: Mesh2D::operator+=: The two meshes cannot be added."
     ]
    }
   ],
   "source": [
    "meshkernel = MeshKernel(is_geographic=True)\n",
    "meshkernel.curvilinear_make_uniform(make_grid_parameters, geometry_list)\n",
    "meshkernel.curvilinear_convert_to_mesh2d()"
   ]
  },
  {
   "cell_type": "markdown",
   "metadata": {},
   "source": [
    "Refine the mesh"
   ]
  },
  {
   "cell_type": "code",
   "execution_count": 5,
   "metadata": {},
   "outputs": [
    {
     "ename": "MeshKernelError",
     "evalue": "MeshKernel: The selected mesh has no nodes.",
     "output_type": "error",
     "traceback": [
      "\u001b[1;31m---------------------------------------------------------------------------\u001b[0m",
      "\u001b[1;31mMeshKernelError\u001b[0m                           Traceback (most recent call last)",
      "\u001b[1;32m<ipython-input-5-a37a57bd4c75>\u001b[0m in \u001b[0;36m<module>\u001b[1;34m\u001b[0m\n\u001b[1;32m----> 1\u001b[1;33m meshkernel.mesh2d_refine_based_on_samples(samples=geomlist,\n\u001b[0m\u001b[0;32m      2\u001b[0m                                           \u001b[0mrelative_search_radius\u001b[0m\u001b[1;33m=\u001b[0m\u001b[1;36m0.5\u001b[0m\u001b[1;33m,\u001b[0m\u001b[1;33m\u001b[0m\u001b[1;33m\u001b[0m\u001b[0m\n\u001b[0;32m      3\u001b[0m                                           \u001b[0mminimum_num_samples\u001b[0m\u001b[1;33m=\u001b[0m\u001b[1;36m3\u001b[0m\u001b[1;33m,\u001b[0m\u001b[1;33m\u001b[0m\u001b[1;33m\u001b[0m\u001b[0m\n\u001b[0;32m      4\u001b[0m                                           mesh_refinement_params=mesh_refinement_parameters)\n\u001b[0;32m      5\u001b[0m \u001b[1;33m\u001b[0m\u001b[0m\n",
      "\u001b[1;32md:\\apps\\python_3_8_6\\lib\\site-packages\\meshkernel\\meshkernel.py\u001b[0m in \u001b[0;36mmesh2d_refine_based_on_samples\u001b[1;34m(self, samples, relative_search_radius, minimum_num_samples, mesh_refinement_params)\u001b[0m\n\u001b[0;32m    487\u001b[0m         )\n\u001b[0;32m    488\u001b[0m \u001b[1;33m\u001b[0m\u001b[0m\n\u001b[1;32m--> 489\u001b[1;33m         self._execute_function(\n\u001b[0m\u001b[0;32m    490\u001b[0m             \u001b[0mself\u001b[0m\u001b[1;33m.\u001b[0m\u001b[0mlib\u001b[0m\u001b[1;33m.\u001b[0m\u001b[0mmkernel_mesh2d_refine_based_on_samples\u001b[0m\u001b[1;33m,\u001b[0m\u001b[1;33m\u001b[0m\u001b[1;33m\u001b[0m\u001b[0m\n\u001b[0;32m    491\u001b[0m             \u001b[0mself\u001b[0m\u001b[1;33m.\u001b[0m\u001b[0m_meshkernelid\u001b[0m\u001b[1;33m,\u001b[0m\u001b[1;33m\u001b[0m\u001b[1;33m\u001b[0m\u001b[0m\n",
      "\u001b[1;32md:\\apps\\python_3_8_6\\lib\\site-packages\\meshkernel\\meshkernel.py\u001b[0m in \u001b[0;36m_execute_function\u001b[1;34m(self, function, *args)\u001b[0m\n\u001b[0;32m   1304\u001b[0m         \u001b[1;32mif\u001b[0m \u001b[0mfunction\u001b[0m\u001b[1;33m(\u001b[0m\u001b[1;33m*\u001b[0m\u001b[0margs\u001b[0m\u001b[1;33m)\u001b[0m \u001b[1;33m!=\u001b[0m \u001b[0mStatus\u001b[0m\u001b[1;33m.\u001b[0m\u001b[0mSUCCESS\u001b[0m\u001b[1;33m:\u001b[0m\u001b[1;33m\u001b[0m\u001b[1;33m\u001b[0m\u001b[0m\n\u001b[0;32m   1305\u001b[0m             \u001b[0merror_message\u001b[0m \u001b[1;33m=\u001b[0m \u001b[0mself\u001b[0m\u001b[1;33m.\u001b[0m\u001b[0m_get_error\u001b[0m\u001b[1;33m(\u001b[0m\u001b[1;33m)\u001b[0m\u001b[1;33m\u001b[0m\u001b[1;33m\u001b[0m\u001b[0m\n\u001b[1;32m-> 1306\u001b[1;33m             \u001b[1;32mraise\u001b[0m \u001b[0mMeshKernelError\u001b[0m\u001b[1;33m(\u001b[0m\u001b[0merror_message\u001b[0m\u001b[1;33m)\u001b[0m\u001b[1;33m\u001b[0m\u001b[1;33m\u001b[0m\u001b[0m\n\u001b[0m\u001b[0;32m   1307\u001b[0m \u001b[1;33m\u001b[0m\u001b[0m\n\u001b[0;32m   1308\u001b[0m     \u001b[1;32mdef\u001b[0m \u001b[0m_curvilineargrid_get_dimensions\u001b[0m\u001b[1;33m(\u001b[0m\u001b[0mself\u001b[0m\u001b[1;33m)\u001b[0m \u001b[1;33m->\u001b[0m \u001b[0mCCurvilinearGrid\u001b[0m\u001b[1;33m:\u001b[0m\u001b[1;33m\u001b[0m\u001b[1;33m\u001b[0m\u001b[0m\n",
      "\u001b[1;31mMeshKernelError\u001b[0m: MeshKernel: The selected mesh has no nodes."
     ]
    }
   ],
   "source": [
    "meshkernel.mesh2d_refine_based_on_samples(samples=geomlist,\n",
    "                                          relative_search_radius=0.5, \n",
    "                                          minimum_num_samples=3,\n",
    "                                          mesh_refinement_params=mesh_refinement_parameters)\n",
    "\n",
    "mesh2d_grid = meshkernel.mesh2d_get()\n",
    "\n",
    "#zoomed in plot to focus on patchy coastlines\n",
    "\n",
    "figsize = (10,4)\n",
    "crs = 'EPSG:4326'\n",
    "\n",
    "fig, ax = plt.subplots(figsize=figsize)\n",
    "mesh2d_grid.plot_edges(ax,linewidth=1)\n",
    "ax.set_xlim(-2.5,-0.5)\n",
    "ax.set_ylim(49,50)\n",
    "ctx.add_basemap(ax=ax, crs=crs, attribution=False)"
   ]
  },
  {
   "cell_type": "code",
   "execution_count": null,
   "metadata": {},
   "outputs": [],
   "source": []
  }
 ],
 "metadata": {
  "kernelspec": {
   "display_name": "Python 3",
   "language": "python",
   "name": "python3"
  },
  "language_info": {
   "codemirror_mode": {
    "name": "ipython",
    "version": 3
   },
   "file_extension": ".py",
   "mimetype": "text/x-python",
   "name": "python",
   "nbconvert_exporter": "python",
   "pygments_lexer": "ipython3",
   "version": "3.8.6"
  }
 },
 "nbformat": 4,
 "nbformat_minor": 4
}
