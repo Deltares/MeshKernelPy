{
 "cells": [
  {
   "cell_type": "markdown",
   "metadata": {},
   "source": [
    "# Mesh2d Basics\n",
    "\n",
    "This is the basic introduction for using the `meshkernel` library.\n",
    "\n",
    "`meshkernel` can be used for creating and manipulating various kinds of meshes.\n",
    "\n",
    "The most common case deals with unstructured, two-dimensional meshes which is why this tutorial focuses on these."
   ]
  },
  {
   "cell_type": "markdown",
   "metadata": {},
   "source": [
    "At the very beginning, the necessary libraries have to be imported."
   ]
  },
  {
   "cell_type": "code",
   "execution_count": 1,
   "metadata": {},
   "outputs": [],
   "source": [
    "import matplotlib.pyplot as plt\n",
    "import numpy as np\n",
    "\n",
    "from meshkernel import GeometryList, MakeGridParameters, MeshKernel"
   ]
  },
  {
   "cell_type": "markdown",
   "metadata": {},
   "source": [
    "`meshkernel` provides a set of convenience methods for creating common meshes.\n",
    "\n",
    "We use the curvilinear_make_uniform method to create a simple curvilinear grid. You can look at the documentation in order to find all its parameters."
   ]
  },
  {
   "cell_type": "code",
   "execution_count": 2,
   "metadata": {},
   "outputs": [],
   "source": [
    "mk = MeshKernel()\n",
    "\n",
    "make_grid_parameters = MakeGridParameters()\n",
    "make_grid_parameters.num_columns = 3\n",
    "make_grid_parameters.num_rows = 2\n",
    "make_grid_parameters.angle = 0.0\n",
    "make_grid_parameters.block_size = 1.0\n",
    "make_grid_parameters.origin_x = 0.0\n",
    "make_grid_parameters.origin_y = 0.0\n",
    "make_grid_parameters.block_size_x = 1.0\n",
    "make_grid_parameters.block_size_y = 1.0\n",
    "\n",
    "node_x = np.empty(0, dtype=np.double)\n",
    "node_y = np.empty(0, dtype=np.double)\n",
    "geometry_list = GeometryList(node_x, node_y)\n",
    "    \n",
    "mk.curvilinear_make_uniform(make_grid_parameters, geometry_list)"
   ]
  },
  {
   "cell_type": "markdown",
   "metadata": {},
   "source": [
    "We convert the curvilinear grid to an unstructured mesh and get the resulting mesh2d"
   ]
  },
  {
   "cell_type": "code",
   "execution_count": 3,
   "metadata": {},
   "outputs": [],
   "source": [
    "mk.curvilinear_convert_to_mesh2d()\n",
    "mesh2d_input = mk.mesh2d_get()"
   ]
  },
  {
   "cell_type": "markdown",
   "metadata": {},
   "source": [
    "`Mesh2D` has three mandatory attributes, which are enough to fully describe any unstructured mesh.\n",
    "\n",
    "The first two are `node_x` and `node_y`.\n",
    "They are one-dimensional `double` arrays, which describe the position of the nodes as can be seen below."
   ]
  },
  {
   "cell_type": "code",
   "execution_count": 4,
   "metadata": {},
   "outputs": [
    {
     "data": {
      "image/png": "[encoded data removed]",
      "text/plain": [
       "<Figure size 432x288 with 1 Axes>"
      ]
     },
     "metadata": {
      "needs_background": "light"
     },
     "output_type": "display_data"
    }
   ],
   "source": [
    "fig, ax = plt.subplots()\n",
    "\n",
    "# Plot white points only for scaling the plot\n",
    "ax.plot(mesh2d_input.node_x, mesh2d_input.node_y, \"ow\")\n",
    "\n",
    "# Numbering the nodes\n",
    "for i in range(mesh2d_input.node_x.size):\n",
    "    ax.annotate(\n",
    "        int(i),\n",
    "        xy=(mesh2d_input.node_x[i], mesh2d_input.node_y[i]),\n",
    "        ha=\"center\",\n",
    "        va=\"center\",\n",
    "        fontsize=12,\n",
    "        color=\"blue\",\n",
    "    )"
   ]
  },
  {
   "cell_type": "markdown",
   "metadata": {},
   "source": [
    "The third mandatory attribute is `edge_nodes`.\n",
    "It describes the indices of the nodes that make up the edges.\n",
    "\n",
    "Two indices describe one edge.\n",
    "So in our case the indices 0-4, 1-5, 2-6, ... each describe one edge."
   ]
  },
  {
   "cell_type": "code",
   "execution_count": 5,
   "metadata": {},
   "outputs": [
    {
     "data": {
      "text/plain": [
       "array([ 0,  4,  1,  5,  2,  6,  3,  7,  4,  8,  5,  9,  6, 10,  7, 11,  0,\n",
       "        1,  1,  2,  2,  3,  4,  5,  5,  6,  6,  7,  8,  9,  9, 10, 10, 11])"
      ]
     },
     "execution_count": 5,
     "metadata": {},
     "output_type": "execute_result"
    }
   ],
   "source": [
    "mesh2d_input.edge_nodes"
   ]
  },
  {
   "cell_type": "markdown",
   "metadata": {},
   "source": [
    "With all three parameters together we can plot the mesh."
   ]
  },
  {
   "cell_type": "code",
   "execution_count": 6,
   "metadata": {},
   "outputs": [
    {
     "data": {
      "image/png": "[encoded data removed]",
      "text/plain": [
       "<Figure size 432x288 with 1 Axes>"
      ]
     },
     "metadata": {
      "needs_background": "light"
     },
     "output_type": "display_data"
    }
   ],
   "source": [
    "fig, ax = plt.subplots()\n",
    "mesh2d_input.plot_edges(ax, color=\"blue\")"
   ]
  },
  {
   "cell_type": "markdown",
   "metadata": {},
   "source": [
    "In order to interact with the `meshkernel` library, we create a new instance of the `MeshKernel` class.\n",
    "\n",
    "The `is_geographic` parameter of its constructor describes whether the mesh is cartesian (`False`) or spherical (`True`). "
   ]
  },
  {
   "cell_type": "code",
   "execution_count": 7,
   "metadata": {},
   "outputs": [],
   "source": [
    "mk = MeshKernel(is_geographic=False)"
   ]
  },
  {
   "cell_type": "markdown",
   "metadata": {},
   "source": [
    "Each instance holds it own state.\n",
    "This state can be accessed with the corresponding getter and setter methods."
   ]
  },
  {
   "cell_type": "code",
   "execution_count": 8,
   "metadata": {},
   "outputs": [],
   "source": [
    "mk.mesh2d_set(mesh2d_input)"
   ]
  },
  {
   "cell_type": "code",
   "execution_count": 9,
   "metadata": {},
   "outputs": [],
   "source": [
    "mesh2d_output_0 = mk.mesh2d_get()"
   ]
  },
  {
   "cell_type": "markdown",
   "metadata": {},
   "source": [
    "We have now set mesh2d and immediately got it again, without asking `meshkernel` to execute any operations in between.\n",
    "\n",
    "After we set the mesh2d, meshkernel calculated the face data and edge coordinates."
   ]
  },
  {
   "cell_type": "code",
   "execution_count": 10,
   "metadata": {},
   "outputs": [
    {
     "data": {
      "image/png": "[encoded data removed]",
      "text/plain": [
       "<Figure size 432x288 with 1 Axes>"
      ]
     },
     "metadata": {
      "needs_background": "light"
     },
     "output_type": "display_data"
    }
   ],
   "source": [
    "fig, ax = plt.subplots()\n",
    "mesh2d_output_0.plot_faces(ax)\n",
    "\n",
    "# Draw face index at the face's center\n",
    "for face_index, (face_x, face_y) in enumerate(\n",
    "    zip(mesh2d_output_0.face_x, mesh2d_output_0.face_y)\n",
    "):\n",
    "    ax.text(face_x, face_y, face_index, ha=\"center\", va=\"center\", fontsize=22)"
   ]
  },
  {
   "cell_type": "markdown",
   "metadata": {},
   "source": [
    "`meshkernel` also searches for the middle point of edges and adds them as parameters to the `Mesh2D` class."
   ]
  },
  {
   "cell_type": "code",
   "execution_count": 11,
   "metadata": {},
   "outputs": [
    {
     "data": {
      "image/png": "[encoded data removed]",
      "text/plain": [
       "<Figure size 432x288 with 1 Axes>"
      ]
     },
     "metadata": {
      "needs_background": "light"
     },
     "output_type": "display_data"
    }
   ],
   "source": [
    "fig, ax = plt.subplots()\n",
    "ax.plot(mesh2d_output_0.edge_x, mesh2d_output_0.edge_y, \".\");"
   ]
  },
  {
   "cell_type": "markdown",
   "metadata": {},
   "source": [
    "Until now everything *looked* structured, so let us add a few nodes to change that."
   ]
  },
  {
   "cell_type": "code",
   "execution_count": 12,
   "metadata": {},
   "outputs": [],
   "source": [
    "node_index_0 = mk.mesh2d_insert_node(4.0, 1.5)\n",
    "node_index_1 = mk.mesh2d_insert_node(4.0, 2.5)"
   ]
  },
  {
   "cell_type": "markdown",
   "metadata": {},
   "source": [
    "We also have to connect our nodes, otherwise `meshkernel` will garbage collect them."
   ]
  },
  {
   "cell_type": "code",
   "execution_count": 13,
   "metadata": {},
   "outputs": [],
   "source": [
    "edge_index_0 = mk.mesh2d_insert_edge(7, node_index_0)\n",
    "edge_index_1 = mk.mesh2d_insert_edge(node_index_0, node_index_1)\n",
    "edge_index_3 = mk.mesh2d_insert_edge(node_index_1, 11)"
   ]
  },
  {
   "cell_type": "markdown",
   "metadata": {},
   "source": [
    "Let us get the new state."
   ]
  },
  {
   "cell_type": "code",
   "execution_count": 14,
   "metadata": {},
   "outputs": [],
   "source": [
    "mesh2d_output_1 = mk.mesh2d_get()"
   ]
  },
  {
   "cell_type": "markdown",
   "metadata": {},
   "source": [
    "If we plot the output, we can also see that `meshkernel` immediately found a new face."
   ]
  },
  {
   "cell_type": "code",
   "execution_count": 15,
   "metadata": {},
   "outputs": [
    {
     "data": {
      "image/png": "[encoded data removed]",
      "text/plain": [
       "<Figure size 432x288 with 1 Axes>"
      ]
     },
     "metadata": {
      "needs_background": "light"
     },
     "output_type": "display_data"
    }
   ],
   "source": [
    "fig, ax = plt.subplots()\n",
    "mesh2d_output_1.plot_faces(ax)\n",
    "\n",
    "# Draw face index at the face's center\n",
    "for face_index, (face_x, face_y) in enumerate(\n",
    "    zip(mesh2d_output_1.face_x, mesh2d_output_1.face_y)\n",
    "):\n",
    "    ax.text(face_x, face_y, face_index, ha=\"center\", va=\"center\", fontsize=22)"
   ]
  },
  {
   "cell_type": "markdown",
   "metadata": {},
   "source": [
    "We can also delete nodes."
   ]
  },
  {
   "cell_type": "code",
   "execution_count": 16,
   "metadata": {},
   "outputs": [],
   "source": [
    "mk.mesh2d_delete_node(node_index_1)\n",
    "mesh2d_output_2 = mk.mesh2d_get()"
   ]
  },
  {
   "cell_type": "markdown",
   "metadata": {},
   "source": [
    "We are back to six faces, but one hanging edge remains."
   ]
  },
  {
   "cell_type": "code",
   "execution_count": 17,
   "metadata": {},
   "outputs": [
    {
     "data": {
      "image/png": "[encoded data removed]",
      "text/plain": [
       "<Figure size 432x288 with 1 Axes>"
      ]
     },
     "metadata": {
      "needs_background": "light"
     },
     "output_type": "display_data"
    }
   ],
   "source": [
    "fig, ax = plt.subplots()\n",
    "mesh2d_output_2.plot_edges(ax, color=\"blue\")"
   ]
  },
  {
   "cell_type": "markdown",
   "metadata": {},
   "source": [
    "Quite often, hanging edges are unwanted.\n",
    "That is why `meshkernel` provides methods to deal with them.\n",
    "For once we can it can count hanging edges."
   ]
  },
  {
   "cell_type": "code",
   "execution_count": 18,
   "metadata": {},
   "outputs": [],
   "source": [
    "hanging_edges = mk.mesh2d_get_hanging_edges()\n",
    "assert hanging_edges.size == 1"
   ]
  },
  {
   "cell_type": "markdown",
   "metadata": {},
   "source": [
    "`meshkernel` can also find and delete them."
   ]
  },
  {
   "cell_type": "code",
   "execution_count": 19,
   "metadata": {},
   "outputs": [],
   "source": [
    "mk.mesh2d_delete_hanging_edges()\n",
    "mesh2d_output_3 = mk.mesh2d_get()"
   ]
  },
  {
   "cell_type": "markdown",
   "metadata": {},
   "source": [
    "After we have deleted the hanging edges, we are back at the original state."
   ]
  },
  {
   "cell_type": "code",
   "execution_count": 20,
   "metadata": {},
   "outputs": [
    {
     "data": {
      "image/png": "[encoded data removed]",
      "text/plain": [
       "<Figure size 432x288 with 1 Axes>"
      ]
     },
     "metadata": {
      "needs_background": "light"
     },
     "output_type": "display_data"
    }
   ],
   "source": [
    "fig, ax = plt.subplots()\n",
    "mesh2d_output_3.plot_edges(ax, color=\"blue\")"
   ]
  },
  {
   "cell_type": "code",
   "execution_count": null,
   "metadata": {},
   "outputs": [],
   "source": []
  }
 ],
 "metadata": {
  "kernelspec": {
   "display_name": "Python 3",
   "language": "python",
   "name": "python3"
  },
  "language_info": {
   "codemirror_mode": {
    "name": "ipython",
    "version": 3
   },
   "file_extension": ".py",
   "mimetype": "text/x-python",
   "name": "python",
   "nbconvert_exporter": "python",
   "pygments_lexer": "ipython3",
   "version": "3.8.6"
  }
 },
 "nbformat": 4,
 "nbformat_minor": 5
}
