{
 "cells": [
  {
   "cell_type": "markdown",
   "id": "a27d1449",
   "metadata": {},
   "source": [
    "# Deleting a mesh"
   ]
  },
  {
   "cell_type": "markdown",
   "id": "30be5685",
   "metadata": {},
   "source": [
    "This tutorial will demonstrate mesh deletion in spherical coordinates. At the very beginning, the necessary libraries have to be imported."
   ]
  },
  {
   "cell_type": "code",
   "execution_count": 1,
   "id": "21e24e96",
   "metadata": {},
   "outputs": [],
   "source": [
    "import meshkernel\n",
    "import matplotlib.pyplot as plt\n",
    "import numpy as np\n",
    "from pathlib import Path\n",
    "import datetime as dt"
   ]
  },
  {
   "cell_type": "markdown",
   "id": "47774a0e",
   "metadata": {},
   "source": [
    "## Deleting a simple mesh"
   ]
  },
  {
   "cell_type": "markdown",
   "id": "8434d428",
   "metadata": {},
   "source": [
    "Create a rectangular grid"
   ]
  },
  {
   "cell_type": "code",
   "execution_count": 2,
   "id": "b219b4d6",
   "metadata": {},
   "outputs": [],
   "source": [
    "lon_min, lon_max = -2.5, -1.3\n",
    "lat_min, lat_max = 48.4, 49.0\n",
    "lon_res, lat_res = 0.01, 0.01\n",
    "\n",
    "make_grid_parameters = meshkernel.MakeGridParameters()\n",
    "make_grid_parameters.origin_x = lon_min\n",
    "make_grid_parameters.origin_y = lat_min\n",
    "make_grid_parameters.upper_right_x = lon_max\n",
    "make_grid_parameters.upper_right_y = lat_max\n",
    "make_grid_parameters.block_size_x = lon_res\n",
    "make_grid_parameters.block_size_y = lat_res\n",
    "\n",
    "mk2 = meshkernel.MeshKernel(projection=meshkernel.ProjectionType.SPHERICAL)\n",
    "mk2.get_projection()\n",
    "\n",
    "mk2.curvilinear_compute_rectangular_grid_on_extension(make_grid_parameters)\n",
    "mk2.curvilinear_convert_to_mesh2d()\n",
    "mesh2d_orig = mk2.mesh2d_get()"
   ]
  },
  {
   "cell_type": "markdown",
   "id": "93b02ef7",
   "metadata": {},
   "source": [
    "Create a polygon to be used for deletion"
   ]
  },
  {
   "cell_type": "code",
   "execution_count": 3,
   "id": "5abdbbe7",
   "metadata": {},
   "outputs": [],
   "source": [
    "pol_x = np.array(\n",
    "    [\n",
    "        -2.554972,\n",
    "        -2.475056,\n",
    "        -2.488361,\n",
    "        -2.4375,\n",
    "        -2.418417,\n",
    "        -2.319139,\n",
    "        -2.313333,\n",
    "        -2.28625,\n",
    "        -2.336694,\n",
    "        -2.314167,\n",
    "        -2.246722,\n",
    "        -2.213361,\n",
    "        -2.195028,\n",
    "        -2.182472,\n",
    "        -2.157944,\n",
    "        -2.175444,\n",
    "        -2.152528,\n",
    "        -2.125889,\n",
    "        -2.152528,\n",
    "        -2.04925,\n",
    "        -2.057944,\n",
    "        -2.032111,\n",
    "        -2.034639,\n",
    "        -1.997083,\n",
    "        -2.015472,\n",
    "        -1.975028,\n",
    "        -1.962972,\n",
    "        -1.989667,\n",
    "        -1.957139,\n",
    "        -2.015056,\n",
    "        -2.004583,\n",
    "        -2.033,\n",
    "        -1.98925,\n",
    "        -1.992556,\n",
    "        -1.941667,\n",
    "        -1.962972,\n",
    "        -1.935056,\n",
    "        -1.905028,\n",
    "        -1.843389,\n",
    "        -1.837111,\n",
    "        -1.872111,\n",
    "        -1.842528,\n",
    "        -1.771667,\n",
    "        -1.635028,\n",
    "        -1.592528,\n",
    "        -1.511722,\n",
    "        -1.51,\n",
    "        -1.470056,\n",
    "        -1.43,\n",
    "        -1.3575,\n",
    "        -1.412889,\n",
    "        -1.389222,\n",
    "        -1.447583,\n",
    "        -1.453361,\n",
    "        -1.505028,\n",
    "        -1.530056,\n",
    "        -1.570444,\n",
    "        -1.576278,\n",
    "        -1.615444,\n",
    "        -1.580417,\n",
    "        -1.2,\n",
    "        -1.2,\n",
    "        -2.6,\n",
    "        -2.554972,\n",
    "    ]\n",
    ")\n",
    "\n",
    "pol_y = np.array(\n",
    "    [\n",
    "        48.599583,\n",
    "        48.622889,\n",
    "        48.64625,\n",
    "        48.653722,\n",
    "        48.634556,\n",
    "        48.690389,\n",
    "        48.672083,\n",
    "        48.667444,\n",
    "        48.620389,\n",
    "        48.612111,\n",
    "        48.645444,\n",
    "        48.57375,\n",
    "        48.611222,\n",
    "        48.577889,\n",
    "        48.587472,\n",
    "        48.597472,\n",
    "        48.618722,\n",
    "        48.604528,\n",
    "        48.633694,\n",
    "        48.639583,\n",
    "        48.625833,\n",
    "        48.624972,\n",
    "        48.604944,\n",
    "        48.578306,\n",
    "        48.571667,\n",
    "        48.536222,\n",
    "        48.549944,\n",
    "        48.583333,\n",
    "        48.578306,\n",
    "        48.598722,\n",
    "        48.614111,\n",
    "        48.650806,\n",
    "        48.668722,\n",
    "        48.684583,\n",
    "        48.684583,\n",
    "        48.689972,\n",
    "        48.702917,\n",
    "        48.690417,\n",
    "        48.712083,\n",
    "        48.679972,\n",
    "        48.645806,\n",
    "        48.616222,\n",
    "        48.603722,\n",
    "        48.617889,\n",
    "        48.639611,\n",
    "        48.621222,\n",
    "        48.632056,\n",
    "        48.625417,\n",
    "        48.643722,\n",
    "        48.63375,\n",
    "        48.659139,\n",
    "        48.67625,\n",
    "        48.655389,\n",
    "        48.672083,\n",
    "        48.687056,\n",
    "        48.73125,\n",
    "        48.744167,\n",
    "        48.821639,\n",
    "        48.835806,\n",
    "        48.856639,\n",
    "        48.9,\n",
    "        48.3,\n",
    "        48.3,\n",
    "        48.599583,\n",
    "    ]\n",
    ")"
   ]
  },
  {
   "cell_type": "markdown",
   "id": "61fe9d99",
   "metadata": {},
   "source": [
    "Perform mesh deletion. It might take a minute due to the grid size"
   ]
  },
  {
   "cell_type": "code",
   "execution_count": 4,
   "id": "deb4949c",
   "metadata": {},
   "outputs": [
    {
     "name": "stdout",
     "output_type": "stream",
     "text": [
      "Deleting grid with coastlines: 0.02 sec\n"
     ]
    }
   ],
   "source": [
    "delete_pol_geom = meshkernel.GeometryList(x_coordinates=pol_x, y_coordinates=pol_y)\n",
    "print(\"Deleting grid with coastlines: \", end=\"\")\n",
    "dtstart = dt.datetime.now()\n",
    "mk2.mesh2d_delete(\n",
    "    geometry_list=delete_pol_geom,\n",
    "    delete_option=meshkernel.DeleteMeshOption.INSIDE_NOT_INTERSECTED,\n",
    "    invert_deletion=False,\n",
    ")\n",
    "print(f\"{(dt.datetime.now()-dtstart).total_seconds():.2f} sec\")"
   ]
  },
  {
   "cell_type": "markdown",
   "id": "4643e0d6",
   "metadata": {},
   "source": [
    "Plot the deletion result"
   ]
  },
  {
   "cell_type": "code",
   "execution_count": 5,
   "id": "b02e5dc9",
   "metadata": {},
   "outputs": [
    {
     "data": {
      "text/plain": [
       "(48.29, 49.0)"
      ]
     },
     "execution_count": 5,
     "metadata": {},
     "output_type": "execute_result"
    },
    {
     "data": {
      "image/png": "[encoded data removed]",
      "text/plain": [
       "<Figure size 800x400 with 1 Axes>"
      ]
     },
     "metadata": {},
     "output_type": "display_data"
    }
   ],
   "source": [
    "plt.close(\"all\")\n",
    "figsize = (8, 4)\n",
    "mesh2d = mk2.mesh2d_get()\n",
    "fig, ax = plt.subplots(figsize=figsize)\n",
    "mesh2d_orig.plot_edges(ax, color=\"grey\")\n",
    "mesh2d.plot_edges(ax, color=\"k\")\n",
    "ax.plot(pol_x, pol_y, \"r\", linewidth=1)\n",
    "ax.set_ylim(lat_min - 0.11, lat_max)"
   ]
  },
  {
   "cell_type": "markdown",
   "id": "eb998c8c",
   "metadata": {},
   "source": [
    "## Deleting a mesh using a global polygon"
   ]
  },
  {
   "cell_type": "markdown",
   "id": "4f322ebd",
   "metadata": {},
   "source": [
    "Create a rectangular grid"
   ]
  },
  {
   "cell_type": "code",
   "execution_count": 6,
   "id": "27be13d8",
   "metadata": {},
   "outputs": [
    {
     "name": "stdout",
     "output_type": "stream",
     "text": [
      "num_faces_before  1120\n",
      "num_columns  13\n",
      "num_rows  40\n"
     ]
    }
   ],
   "source": [
    "lon_min, lon_max = -6, 2\n",
    "lat_min, lat_max = 48.5, 51.2\n",
    "lon_res, lat_res = 0.2, 0.2\n",
    "\n",
    "make_grid_parameters = meshkernel.MakeGridParameters()\n",
    "make_grid_parameters.origin_x = lon_min\n",
    "make_grid_parameters.origin_y = lat_min\n",
    "make_grid_parameters.upper_right_x = lon_max\n",
    "make_grid_parameters.upper_right_y = lat_max\n",
    "make_grid_parameters.block_size_x = lon_res\n",
    "make_grid_parameters.block_size_y = lat_res\n",
    "\n",
    "mk = meshkernel.MeshKernel(projection=meshkernel.ProjectionType.SPHERICAL)\n",
    "mk.curvilinear_compute_rectangular_grid_on_extension(make_grid_parameters)\n",
    "mk.curvilinear_convert_to_mesh2d()\n",
    "mesh2d = mk.mesh2d_get()\n",
    "mesh2d_orig = mk.mesh2d_get()\n",
    "\n",
    "num_faces_before = len(mesh2d.face_x)\n",
    "num_columns = int((lat_max - lat_min) / 0.2)\n",
    "num_rows = int((lon_max - lon_min) / 0.2)\n",
    "\n",
    "print(\"num_faces_before \", num_faces_before)\n",
    "print(\"num_columns \", num_columns)\n",
    "print(\"num_rows \", num_rows)"
   ]
  },
  {
   "cell_type": "markdown",
   "id": "6d76a200",
   "metadata": {},
   "source": [
    "Import global coastlines (about 130 000 segments)"
   ]
  },
  {
   "cell_type": "code",
   "execution_count": 7,
   "id": "16bdc339",
   "metadata": {},
   "outputs": [],
   "source": [
    "polygon_file_path = Path().absolute() / \"data_examples\" / \"global_coastline.pol\"\n",
    "polygon_np = np.loadtxt(polygon_file_path, comments=\"*\", skiprows=2, dtype=np.double)\n",
    "pol_x = np.array(polygon_np[:, 0], dtype=np.double)\n",
    "pol_y = np.array(polygon_np[:, 1], dtype=np.double)"
   ]
  },
  {
   "cell_type": "code",
   "execution_count": 8,
   "id": "b73c906d",
   "metadata": {},
   "outputs": [
    {
     "name": "stdout",
     "output_type": "stream",
     "text": [
      ">> deleting grid with coastlines: 1.36 sec\n"
     ]
    }
   ],
   "source": [
    "print(\">> deleting grid with coastlines: \", end=\"\")\n",
    "dtstart = dt.datetime.now()\n",
    "delete_pol_geom = meshkernel.GeometryList(x_coordinates=pol_x, y_coordinates=pol_y)\n",
    "mk.mesh2d_delete(\n",
    "    geometry_list=delete_pol_geom,\n",
    "    delete_option=meshkernel.DeleteMeshOption.INSIDE_NOT_INTERSECTED,\n",
    "    invert_deletion=False,\n",
    ")\n",
    "print(f\"{(dt.datetime.now()-dtstart).total_seconds():.2f} sec\")"
   ]
  },
  {
   "cell_type": "code",
   "execution_count": 9,
   "id": "b7a13a06",
   "metadata": {},
   "outputs": [
    {
     "name": "stdout",
     "output_type": "stream",
     "text": [
      "num_faces_after  1120\n",
      "deleted faces  213\n"
     ]
    },
    {
     "data": {
      "image/png": "[encoded data removed]",
      "text/plain": [
       "<Figure size 800x400 with 1 Axes>"
      ]
     },
     "metadata": {},
     "output_type": "display_data"
    }
   ],
   "source": [
    "plt.close(\"all\")\n",
    "figsize = (8, 4)\n",
    "mesh2d = mk.mesh2d_get()\n",
    "fig, ax = plt.subplots(figsize=figsize)\n",
    "mesh2d_orig.plot_edges(ax, color=\"grey\")\n",
    "mesh2d.plot_edges(ax, color=\"k\")\n",
    "ax.plot(pol_x, pol_y, \"r\", linewidth=1)\n",
    "ax.set_xlim(lon_min, lon_max)\n",
    "ax.set_ylim(lat_min, lat_max)\n",
    "num_faces_after = len(mesh2d.face_x)\n",
    "print(\"num_faces_after \", num_faces_before)\n",
    "print(\"deleted faces \", num_faces_before - num_faces_after)"
   ]
  }
 ],
 "metadata": {
  "kernelspec": {
   "display_name": "Python 3 (ipykernel)",
   "language": "python",
   "name": "python3"
  },
  "language_info": {
   "codemirror_mode": {
    "name": "ipython",
    "version": 3
   },
   "file_extension": ".py",
   "mimetype": "text/x-python",
   "name": "python",
   "nbconvert_exporter": "python",
   "pygments_lexer": "ipython3",
   "version": "3.10.11"
  }
 },
 "nbformat": 4,
 "nbformat_minor": 5
}
